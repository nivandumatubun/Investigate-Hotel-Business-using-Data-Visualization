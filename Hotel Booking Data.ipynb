{
 "cells": [
  {
   "cell_type": "markdown",
   "id": "b7814edb-9f2a-4dc3-8257-3218810d2ace",
   "metadata": {},
   "source": [
    "# **Investigate Hotel Business using Data Visualization**"
   ]
  },
  {
   "cell_type": "code",
   "execution_count": 1,
   "id": "3cb3c935-7007-44ca-8b14-5d032d721498",
   "metadata": {
    "tags": []
   },
   "outputs": [],
   "source": [
    "import pandas as pd\n",
    "import numpy as np\n",
    "import matplotlib.pyplot as plt\n",
    "import seaborn as sns\n",
    "import calendar"
   ]
  },
  {
   "cell_type": "markdown",
   "id": "a73ecfee-1f27-4695-a334-f91ff9b61ad1",
   "metadata": {},
   "source": [
    "## **Load Dataset**"
   ]
  },
  {
   "cell_type": "code",
   "execution_count": 2,
   "id": "c882e6fb-a996-4154-b32c-8e56753d9f08",
   "metadata": {
    "tags": []
   },
   "outputs": [
    {
     "data": {
      "text/html": [
       "<div>\n",
       "<style scoped>\n",
       "    .dataframe tbody tr th:only-of-type {\n",
       "        vertical-align: middle;\n",
       "    }\n",
       "\n",
       "    .dataframe tbody tr th {\n",
       "        vertical-align: top;\n",
       "    }\n",
       "\n",
       "    .dataframe thead th {\n",
       "        text-align: right;\n",
       "    }\n",
       "</style>\n",
       "<table border=\"1\" class=\"dataframe\">\n",
       "  <thead>\n",
       "    <tr style=\"text-align: right;\">\n",
       "      <th></th>\n",
       "      <th>hotel</th>\n",
       "      <th>is_canceled</th>\n",
       "      <th>lead_time</th>\n",
       "      <th>arrival_date_year</th>\n",
       "      <th>arrival_date_month</th>\n",
       "      <th>arrival_date_week_number</th>\n",
       "      <th>arrival_date_day_of_month</th>\n",
       "      <th>stays_in_weekend_nights</th>\n",
       "      <th>stays_in_weekdays_nights</th>\n",
       "      <th>adults</th>\n",
       "      <th>children</th>\n",
       "      <th>babies</th>\n",
       "      <th>meal</th>\n",
       "      <th>city</th>\n",
       "      <th>market_segment</th>\n",
       "      <th>distribution_channel</th>\n",
       "      <th>is_repeated_guest</th>\n",
       "      <th>previous_cancellations</th>\n",
       "      <th>previous_bookings_not_canceled</th>\n",
       "      <th>booking_changes</th>\n",
       "      <th>deposit_type</th>\n",
       "      <th>agent</th>\n",
       "      <th>company</th>\n",
       "      <th>days_in_waiting_list</th>\n",
       "      <th>customer_type</th>\n",
       "      <th>adr</th>\n",
       "      <th>required_car_parking_spaces</th>\n",
       "      <th>total_of_special_requests</th>\n",
       "      <th>reservation_status</th>\n",
       "    </tr>\n",
       "  </thead>\n",
       "  <tbody>\n",
       "    <tr>\n",
       "      <th>22058</th>\n",
       "      <td>Resort Hotel</td>\n",
       "      <td>0</td>\n",
       "      <td>56</td>\n",
       "      <td>2018</td>\n",
       "      <td>May</td>\n",
       "      <td>12</td>\n",
       "      <td>16</td>\n",
       "      <td>0</td>\n",
       "      <td>1</td>\n",
       "      <td>2</td>\n",
       "      <td>0.0</td>\n",
       "      <td>0</td>\n",
       "      <td>Breakfast</td>\n",
       "      <td>Kabupaten Garut</td>\n",
       "      <td>Offline TA/TO</td>\n",
       "      <td>TA/TO</td>\n",
       "      <td>0</td>\n",
       "      <td>0</td>\n",
       "      <td>0</td>\n",
       "      <td>0</td>\n",
       "      <td>No Deposit</td>\n",
       "      <td>251.0</td>\n",
       "      <td>NaN</td>\n",
       "      <td>0</td>\n",
       "      <td>Personal</td>\n",
       "      <td>37.00</td>\n",
       "      <td>0</td>\n",
       "      <td>0</td>\n",
       "      <td>Check-Out</td>\n",
       "    </tr>\n",
       "    <tr>\n",
       "      <th>104982</th>\n",
       "      <td>City Hotel</td>\n",
       "      <td>0</td>\n",
       "      <td>1</td>\n",
       "      <td>2019</td>\n",
       "      <td>March</td>\n",
       "      <td>4</td>\n",
       "      <td>25</td>\n",
       "      <td>0</td>\n",
       "      <td>2</td>\n",
       "      <td>1</td>\n",
       "      <td>0.0</td>\n",
       "      <td>0</td>\n",
       "      <td>Breakfast</td>\n",
       "      <td>Kota Batu</td>\n",
       "      <td>Online TA</td>\n",
       "      <td>TA/TO</td>\n",
       "      <td>0</td>\n",
       "      <td>0</td>\n",
       "      <td>0</td>\n",
       "      <td>0</td>\n",
       "      <td>No Deposit</td>\n",
       "      <td>9.0</td>\n",
       "      <td>NaN</td>\n",
       "      <td>0</td>\n",
       "      <td>Personal</td>\n",
       "      <td>98.00</td>\n",
       "      <td>0</td>\n",
       "      <td>0</td>\n",
       "      <td>Check-Out</td>\n",
       "    </tr>\n",
       "    <tr>\n",
       "      <th>77204</th>\n",
       "      <td>City Hotel</td>\n",
       "      <td>0</td>\n",
       "      <td>5</td>\n",
       "      <td>2017</td>\n",
       "      <td>November</td>\n",
       "      <td>37</td>\n",
       "      <td>7</td>\n",
       "      <td>2</td>\n",
       "      <td>5</td>\n",
       "      <td>2</td>\n",
       "      <td>0.0</td>\n",
       "      <td>0</td>\n",
       "      <td>Breakfast</td>\n",
       "      <td>Kabupaten Bangka</td>\n",
       "      <td>Direct</td>\n",
       "      <td>Direct</td>\n",
       "      <td>0</td>\n",
       "      <td>0</td>\n",
       "      <td>0</td>\n",
       "      <td>0</td>\n",
       "      <td>No Deposit</td>\n",
       "      <td>14.0</td>\n",
       "      <td>NaN</td>\n",
       "      <td>0</td>\n",
       "      <td>Personal</td>\n",
       "      <td>114.43</td>\n",
       "      <td>0</td>\n",
       "      <td>0</td>\n",
       "      <td>Check-Out</td>\n",
       "    </tr>\n",
       "  </tbody>\n",
       "</table>\n",
       "</div>"
      ],
      "text/plain": [
       "               hotel  is_canceled  lead_time  arrival_date_year  \\\n",
       "22058   Resort Hotel            0         56               2018   \n",
       "104982    City Hotel            0          1               2019   \n",
       "77204     City Hotel            0          5               2017   \n",
       "\n",
       "       arrival_date_month  arrival_date_week_number  \\\n",
       "22058                 May                        12   \n",
       "104982              March                         4   \n",
       "77204            November                        37   \n",
       "\n",
       "        arrival_date_day_of_month  stays_in_weekend_nights  \\\n",
       "22058                          16                        0   \n",
       "104982                         25                        0   \n",
       "77204                           7                        2   \n",
       "\n",
       "        stays_in_weekdays_nights  adults  children  babies       meal  \\\n",
       "22058                          1       2       0.0       0  Breakfast   \n",
       "104982                         2       1       0.0       0  Breakfast   \n",
       "77204                          5       2       0.0       0  Breakfast   \n",
       "\n",
       "                    city market_segment distribution_channel  \\\n",
       "22058    Kabupaten Garut  Offline TA/TO                TA/TO   \n",
       "104982         Kota Batu      Online TA                TA/TO   \n",
       "77204   Kabupaten Bangka         Direct               Direct   \n",
       "\n",
       "        is_repeated_guest  previous_cancellations  \\\n",
       "22058                   0                       0   \n",
       "104982                  0                       0   \n",
       "77204                   0                       0   \n",
       "\n",
       "        previous_bookings_not_canceled  booking_changes deposit_type  agent  \\\n",
       "22058                                0                0   No Deposit  251.0   \n",
       "104982                               0                0   No Deposit    9.0   \n",
       "77204                                0                0   No Deposit   14.0   \n",
       "\n",
       "        company  days_in_waiting_list customer_type     adr  \\\n",
       "22058       NaN                     0      Personal   37.00   \n",
       "104982      NaN                     0      Personal   98.00   \n",
       "77204       NaN                     0      Personal  114.43   \n",
       "\n",
       "        required_car_parking_spaces  total_of_special_requests  \\\n",
       "22058                             0                          0   \n",
       "104982                            0                          0   \n",
       "77204                             0                          0   \n",
       "\n",
       "       reservation_status  \n",
       "22058           Check-Out  \n",
       "104982          Check-Out  \n",
       "77204           Check-Out  "
      ]
     },
     "execution_count": 2,
     "metadata": {},
     "output_type": "execute_result"
    }
   ],
   "source": [
    "df = pd.read_csv('hotel_bookings_data.csv')\n",
    "pd.set_option('display.max_columns',None)\n",
    "df.sample(3)"
   ]
  },
  {
   "cell_type": "markdown",
   "id": "95bc813d-9908-4715-911b-77dba613ee11",
   "metadata": {},
   "source": [
    "# 1. Descriptive Statistic"
   ]
  },
  {
   "cell_type": "code",
   "execution_count": 3,
   "id": "83003fe1-6c9c-46f6-9c4c-bcc3810f0a6d",
   "metadata": {
    "tags": []
   },
   "outputs": [
    {
     "data": {
      "text/html": [
       "<div>\n",
       "<style scoped>\n",
       "    .dataframe tbody tr th:only-of-type {\n",
       "        vertical-align: middle;\n",
       "    }\n",
       "\n",
       "    .dataframe tbody tr th {\n",
       "        vertical-align: top;\n",
       "    }\n",
       "\n",
       "    .dataframe thead th {\n",
       "        text-align: right;\n",
       "    }\n",
       "</style>\n",
       "<table border=\"1\" class=\"dataframe\">\n",
       "  <thead>\n",
       "    <tr style=\"text-align: right;\">\n",
       "      <th></th>\n",
       "      <th>is_canceled</th>\n",
       "      <th>lead_time</th>\n",
       "      <th>arrival_date_year</th>\n",
       "      <th>arrival_date_week_number</th>\n",
       "      <th>arrival_date_day_of_month</th>\n",
       "      <th>stays_in_weekend_nights</th>\n",
       "      <th>stays_in_weekdays_nights</th>\n",
       "      <th>adults</th>\n",
       "      <th>children</th>\n",
       "      <th>babies</th>\n",
       "      <th>is_repeated_guest</th>\n",
       "      <th>previous_cancellations</th>\n",
       "      <th>previous_bookings_not_canceled</th>\n",
       "      <th>booking_changes</th>\n",
       "      <th>agent</th>\n",
       "      <th>company</th>\n",
       "      <th>days_in_waiting_list</th>\n",
       "      <th>adr</th>\n",
       "      <th>required_car_parking_spaces</th>\n",
       "      <th>total_of_special_requests</th>\n",
       "    </tr>\n",
       "  </thead>\n",
       "  <tbody>\n",
       "    <tr>\n",
       "      <th>count</th>\n",
       "      <td>119390.000000</td>\n",
       "      <td>119390.000000</td>\n",
       "      <td>119390.000000</td>\n",
       "      <td>119390.000000</td>\n",
       "      <td>119390.000000</td>\n",
       "      <td>119390.000000</td>\n",
       "      <td>119390.000000</td>\n",
       "      <td>119390.000000</td>\n",
       "      <td>119386.000000</td>\n",
       "      <td>119390.000000</td>\n",
       "      <td>119390.000000</td>\n",
       "      <td>119390.000000</td>\n",
       "      <td>119390.000000</td>\n",
       "      <td>119390.000000</td>\n",
       "      <td>103050.000000</td>\n",
       "      <td>6797.000000</td>\n",
       "      <td>119390.000000</td>\n",
       "      <td>119390.000000</td>\n",
       "      <td>119390.000000</td>\n",
       "      <td>119390.000000</td>\n",
       "    </tr>\n",
       "    <tr>\n",
       "      <th>mean</th>\n",
       "      <td>0.370416</td>\n",
       "      <td>104.011416</td>\n",
       "      <td>2018.156554</td>\n",
       "      <td>27.165173</td>\n",
       "      <td>15.798241</td>\n",
       "      <td>0.927599</td>\n",
       "      <td>2.500302</td>\n",
       "      <td>1.856403</td>\n",
       "      <td>0.103890</td>\n",
       "      <td>0.007949</td>\n",
       "      <td>0.031912</td>\n",
       "      <td>0.087118</td>\n",
       "      <td>0.137097</td>\n",
       "      <td>0.221124</td>\n",
       "      <td>86.693382</td>\n",
       "      <td>189.266735</td>\n",
       "      <td>2.321149</td>\n",
       "      <td>101.831122</td>\n",
       "      <td>0.062518</td>\n",
       "      <td>0.571363</td>\n",
       "    </tr>\n",
       "    <tr>\n",
       "      <th>std</th>\n",
       "      <td>0.482918</td>\n",
       "      <td>106.863097</td>\n",
       "      <td>0.707476</td>\n",
       "      <td>13.605138</td>\n",
       "      <td>8.780829</td>\n",
       "      <td>0.998613</td>\n",
       "      <td>1.908286</td>\n",
       "      <td>0.579261</td>\n",
       "      <td>0.398561</td>\n",
       "      <td>0.097436</td>\n",
       "      <td>0.175767</td>\n",
       "      <td>0.844336</td>\n",
       "      <td>1.497437</td>\n",
       "      <td>0.652306</td>\n",
       "      <td>110.774548</td>\n",
       "      <td>131.655015</td>\n",
       "      <td>17.594721</td>\n",
       "      <td>50.535790</td>\n",
       "      <td>0.245291</td>\n",
       "      <td>0.792798</td>\n",
       "    </tr>\n",
       "    <tr>\n",
       "      <th>min</th>\n",
       "      <td>0.000000</td>\n",
       "      <td>0.000000</td>\n",
       "      <td>2017.000000</td>\n",
       "      <td>1.000000</td>\n",
       "      <td>1.000000</td>\n",
       "      <td>0.000000</td>\n",
       "      <td>0.000000</td>\n",
       "      <td>0.000000</td>\n",
       "      <td>0.000000</td>\n",
       "      <td>0.000000</td>\n",
       "      <td>0.000000</td>\n",
       "      <td>0.000000</td>\n",
       "      <td>0.000000</td>\n",
       "      <td>0.000000</td>\n",
       "      <td>1.000000</td>\n",
       "      <td>6.000000</td>\n",
       "      <td>0.000000</td>\n",
       "      <td>-6.380000</td>\n",
       "      <td>0.000000</td>\n",
       "      <td>0.000000</td>\n",
       "    </tr>\n",
       "    <tr>\n",
       "      <th>25%</th>\n",
       "      <td>0.000000</td>\n",
       "      <td>18.000000</td>\n",
       "      <td>2018.000000</td>\n",
       "      <td>16.000000</td>\n",
       "      <td>8.000000</td>\n",
       "      <td>0.000000</td>\n",
       "      <td>1.000000</td>\n",
       "      <td>2.000000</td>\n",
       "      <td>0.000000</td>\n",
       "      <td>0.000000</td>\n",
       "      <td>0.000000</td>\n",
       "      <td>0.000000</td>\n",
       "      <td>0.000000</td>\n",
       "      <td>0.000000</td>\n",
       "      <td>9.000000</td>\n",
       "      <td>62.000000</td>\n",
       "      <td>0.000000</td>\n",
       "      <td>69.290000</td>\n",
       "      <td>0.000000</td>\n",
       "      <td>0.000000</td>\n",
       "    </tr>\n",
       "    <tr>\n",
       "      <th>50%</th>\n",
       "      <td>0.000000</td>\n",
       "      <td>69.000000</td>\n",
       "      <td>2018.000000</td>\n",
       "      <td>28.000000</td>\n",
       "      <td>16.000000</td>\n",
       "      <td>1.000000</td>\n",
       "      <td>2.000000</td>\n",
       "      <td>2.000000</td>\n",
       "      <td>0.000000</td>\n",
       "      <td>0.000000</td>\n",
       "      <td>0.000000</td>\n",
       "      <td>0.000000</td>\n",
       "      <td>0.000000</td>\n",
       "      <td>0.000000</td>\n",
       "      <td>14.000000</td>\n",
       "      <td>179.000000</td>\n",
       "      <td>0.000000</td>\n",
       "      <td>94.575000</td>\n",
       "      <td>0.000000</td>\n",
       "      <td>0.000000</td>\n",
       "    </tr>\n",
       "    <tr>\n",
       "      <th>75%</th>\n",
       "      <td>1.000000</td>\n",
       "      <td>160.000000</td>\n",
       "      <td>2019.000000</td>\n",
       "      <td>38.000000</td>\n",
       "      <td>23.000000</td>\n",
       "      <td>2.000000</td>\n",
       "      <td>3.000000</td>\n",
       "      <td>2.000000</td>\n",
       "      <td>0.000000</td>\n",
       "      <td>0.000000</td>\n",
       "      <td>0.000000</td>\n",
       "      <td>0.000000</td>\n",
       "      <td>0.000000</td>\n",
       "      <td>0.000000</td>\n",
       "      <td>229.000000</td>\n",
       "      <td>270.000000</td>\n",
       "      <td>0.000000</td>\n",
       "      <td>126.000000</td>\n",
       "      <td>0.000000</td>\n",
       "      <td>1.000000</td>\n",
       "    </tr>\n",
       "    <tr>\n",
       "      <th>max</th>\n",
       "      <td>1.000000</td>\n",
       "      <td>737.000000</td>\n",
       "      <td>2019.000000</td>\n",
       "      <td>53.000000</td>\n",
       "      <td>31.000000</td>\n",
       "      <td>19.000000</td>\n",
       "      <td>50.000000</td>\n",
       "      <td>55.000000</td>\n",
       "      <td>10.000000</td>\n",
       "      <td>10.000000</td>\n",
       "      <td>1.000000</td>\n",
       "      <td>26.000000</td>\n",
       "      <td>72.000000</td>\n",
       "      <td>21.000000</td>\n",
       "      <td>535.000000</td>\n",
       "      <td>543.000000</td>\n",
       "      <td>391.000000</td>\n",
       "      <td>5400.000000</td>\n",
       "      <td>8.000000</td>\n",
       "      <td>5.000000</td>\n",
       "    </tr>\n",
       "  </tbody>\n",
       "</table>\n",
       "</div>"
      ],
      "text/plain": [
       "         is_canceled      lead_time  arrival_date_year  \\\n",
       "count  119390.000000  119390.000000      119390.000000   \n",
       "mean        0.370416     104.011416        2018.156554   \n",
       "std         0.482918     106.863097           0.707476   \n",
       "min         0.000000       0.000000        2017.000000   \n",
       "25%         0.000000      18.000000        2018.000000   \n",
       "50%         0.000000      69.000000        2018.000000   \n",
       "75%         1.000000     160.000000        2019.000000   \n",
       "max         1.000000     737.000000        2019.000000   \n",
       "\n",
       "       arrival_date_week_number  arrival_date_day_of_month  \\\n",
       "count             119390.000000              119390.000000   \n",
       "mean                  27.165173                  15.798241   \n",
       "std                   13.605138                   8.780829   \n",
       "min                    1.000000                   1.000000   \n",
       "25%                   16.000000                   8.000000   \n",
       "50%                   28.000000                  16.000000   \n",
       "75%                   38.000000                  23.000000   \n",
       "max                   53.000000                  31.000000   \n",
       "\n",
       "       stays_in_weekend_nights  stays_in_weekdays_nights         adults  \\\n",
       "count            119390.000000             119390.000000  119390.000000   \n",
       "mean                  0.927599                  2.500302       1.856403   \n",
       "std                   0.998613                  1.908286       0.579261   \n",
       "min                   0.000000                  0.000000       0.000000   \n",
       "25%                   0.000000                  1.000000       2.000000   \n",
       "50%                   1.000000                  2.000000       2.000000   \n",
       "75%                   2.000000                  3.000000       2.000000   \n",
       "max                  19.000000                 50.000000      55.000000   \n",
       "\n",
       "            children         babies  is_repeated_guest  \\\n",
       "count  119386.000000  119390.000000      119390.000000   \n",
       "mean        0.103890       0.007949           0.031912   \n",
       "std         0.398561       0.097436           0.175767   \n",
       "min         0.000000       0.000000           0.000000   \n",
       "25%         0.000000       0.000000           0.000000   \n",
       "50%         0.000000       0.000000           0.000000   \n",
       "75%         0.000000       0.000000           0.000000   \n",
       "max        10.000000      10.000000           1.000000   \n",
       "\n",
       "       previous_cancellations  previous_bookings_not_canceled  \\\n",
       "count           119390.000000                   119390.000000   \n",
       "mean                 0.087118                        0.137097   \n",
       "std                  0.844336                        1.497437   \n",
       "min                  0.000000                        0.000000   \n",
       "25%                  0.000000                        0.000000   \n",
       "50%                  0.000000                        0.000000   \n",
       "75%                  0.000000                        0.000000   \n",
       "max                 26.000000                       72.000000   \n",
       "\n",
       "       booking_changes          agent      company  days_in_waiting_list  \\\n",
       "count    119390.000000  103050.000000  6797.000000         119390.000000   \n",
       "mean          0.221124      86.693382   189.266735              2.321149   \n",
       "std           0.652306     110.774548   131.655015             17.594721   \n",
       "min           0.000000       1.000000     6.000000              0.000000   \n",
       "25%           0.000000       9.000000    62.000000              0.000000   \n",
       "50%           0.000000      14.000000   179.000000              0.000000   \n",
       "75%           0.000000     229.000000   270.000000              0.000000   \n",
       "max          21.000000     535.000000   543.000000            391.000000   \n",
       "\n",
       "                 adr  required_car_parking_spaces  total_of_special_requests  \n",
       "count  119390.000000                119390.000000              119390.000000  \n",
       "mean      101.831122                     0.062518                   0.571363  \n",
       "std        50.535790                     0.245291                   0.792798  \n",
       "min        -6.380000                     0.000000                   0.000000  \n",
       "25%        69.290000                     0.000000                   0.000000  \n",
       "50%        94.575000                     0.000000                   0.000000  \n",
       "75%       126.000000                     0.000000                   1.000000  \n",
       "max      5400.000000                     8.000000                   5.000000  "
      ]
     },
     "execution_count": 3,
     "metadata": {},
     "output_type": "execute_result"
    }
   ],
   "source": [
    "df.describe()"
   ]
  },
  {
   "cell_type": "code",
   "execution_count": 4,
   "id": "a8b9842c-2977-4169-af6d-4a1f9d5d504a",
   "metadata": {
    "tags": []
   },
   "outputs": [
    {
     "data": {
      "text/plain": [
       "(119390, 29)"
      ]
     },
     "execution_count": 4,
     "metadata": {},
     "output_type": "execute_result"
    }
   ],
   "source": [
    "df.shape"
   ]
  },
  {
   "cell_type": "markdown",
   "id": "3501e7c2-d477-49f1-a56e-cdbad0dbb25c",
   "metadata": {},
   "source": [
    "Dataset ini terdiri dari **119.390** baris dan **29** kolom"
   ]
  },
  {
   "cell_type": "code",
   "execution_count": 5,
   "id": "80606210-7607-4cde-8411-f386528b0a32",
   "metadata": {
    "tags": []
   },
   "outputs": [
    {
     "name": "stdout",
     "output_type": "stream",
     "text": [
      "<class 'pandas.core.frame.DataFrame'>\n",
      "RangeIndex: 119390 entries, 0 to 119389\n",
      "Data columns (total 29 columns):\n",
      " #   Column                          Non-Null Count   Dtype  \n",
      "---  ------                          --------------   -----  \n",
      " 0   hotel                           119390 non-null  object \n",
      " 1   is_canceled                     119390 non-null  int64  \n",
      " 2   lead_time                       119390 non-null  int64  \n",
      " 3   arrival_date_year               119390 non-null  int64  \n",
      " 4   arrival_date_month              119390 non-null  object \n",
      " 5   arrival_date_week_number        119390 non-null  int64  \n",
      " 6   arrival_date_day_of_month       119390 non-null  int64  \n",
      " 7   stays_in_weekend_nights         119390 non-null  int64  \n",
      " 8   stays_in_weekdays_nights        119390 non-null  int64  \n",
      " 9   adults                          119390 non-null  int64  \n",
      " 10  children                        119386 non-null  float64\n",
      " 11  babies                          119390 non-null  int64  \n",
      " 12  meal                            119390 non-null  object \n",
      " 13  city                            118902 non-null  object \n",
      " 14  market_segment                  119390 non-null  object \n",
      " 15  distribution_channel            119390 non-null  object \n",
      " 16  is_repeated_guest               119390 non-null  int64  \n",
      " 17  previous_cancellations          119390 non-null  int64  \n",
      " 18  previous_bookings_not_canceled  119390 non-null  int64  \n",
      " 19  booking_changes                 119390 non-null  int64  \n",
      " 20  deposit_type                    119390 non-null  object \n",
      " 21  agent                           103050 non-null  float64\n",
      " 22  company                         6797 non-null    float64\n",
      " 23  days_in_waiting_list            119390 non-null  int64  \n",
      " 24  customer_type                   119390 non-null  object \n",
      " 25  adr                             119390 non-null  float64\n",
      " 26  required_car_parking_spaces     119390 non-null  int64  \n",
      " 27  total_of_special_requests       119390 non-null  int64  \n",
      " 28  reservation_status              119390 non-null  object \n",
      "dtypes: float64(4), int64(16), object(9)\n",
      "memory usage: 26.4+ MB\n"
     ]
    }
   ],
   "source": [
    "df.info()"
   ]
  },
  {
   "cell_type": "code",
   "execution_count": 6,
   "id": "008b9237-0069-4eed-9d7b-bc6594d22d6b",
   "metadata": {
    "tags": []
   },
   "outputs": [
    {
     "data": {
      "text/plain": [
       "hotel                                  0\n",
       "is_canceled                            0\n",
       "lead_time                              0\n",
       "arrival_date_year                      0\n",
       "arrival_date_month                     0\n",
       "arrival_date_week_number               0\n",
       "arrival_date_day_of_month              0\n",
       "stays_in_weekend_nights                0\n",
       "stays_in_weekdays_nights               0\n",
       "adults                                 0\n",
       "children                               4\n",
       "babies                                 0\n",
       "meal                                   0\n",
       "city                                 488\n",
       "market_segment                         0\n",
       "distribution_channel                   0\n",
       "is_repeated_guest                      0\n",
       "previous_cancellations                 0\n",
       "previous_bookings_not_canceled         0\n",
       "booking_changes                        0\n",
       "deposit_type                           0\n",
       "agent                              16340\n",
       "company                           112593\n",
       "days_in_waiting_list                   0\n",
       "customer_type                          0\n",
       "adr                                    0\n",
       "required_car_parking_spaces            0\n",
       "total_of_special_requests              0\n",
       "reservation_status                     0\n",
       "dtype: int64"
      ]
     },
     "execution_count": 6,
     "metadata": {},
     "output_type": "execute_result"
    }
   ],
   "source": [
    "df.isna().sum()"
   ]
  },
  {
   "cell_type": "markdown",
   "id": "56047481-97bc-48c2-a4c4-fcb1b998d80f",
   "metadata": {},
   "source": [
    "Terdapat 4 kolom yang memiliki data null : \n",
    "- **children**\n",
    "- **city**\n",
    "- **agent**\n",
    "- **company**"
   ]
  },
  {
   "cell_type": "code",
   "execution_count": 7,
   "id": "f2780d4d-c27d-4e8d-8a87-938b56999f0d",
   "metadata": {
    "tags": []
   },
   "outputs": [
    {
     "data": {
      "text/plain": [
       "33261"
      ]
     },
     "execution_count": 7,
     "metadata": {},
     "output_type": "execute_result"
    }
   ],
   "source": [
    "df.duplicated().sum()"
   ]
  },
  {
   "cell_type": "code",
   "execution_count": 8,
   "id": "79aceaea-cbf1-4881-b59a-c0a23f1f5616",
   "metadata": {
    "tags": []
   },
   "outputs": [
    {
     "data": {
      "text/plain": [
       "Breakfast     92310\n",
       "Dinner        14463\n",
       "No Meal       10650\n",
       "Undefined      1169\n",
       "Full Board      798\n",
       "Name: meal, dtype: int64"
      ]
     },
     "execution_count": 8,
     "metadata": {},
     "output_type": "execute_result"
    }
   ],
   "source": [
    "df['meal'].value_counts()"
   ]
  },
  {
   "cell_type": "code",
   "execution_count": 9,
   "id": "a90bd546-f002-47da-ad8a-e56562f51c57",
   "metadata": {
    "tags": []
   },
   "outputs": [
    {
     "data": {
      "text/plain": [
       "9.0      31961\n",
       "240.0    13922\n",
       "1.0       7191\n",
       "14.0      3640\n",
       "7.0       3539\n",
       "         ...  \n",
       "289.0        1\n",
       "432.0        1\n",
       "265.0        1\n",
       "93.0         1\n",
       "304.0        1\n",
       "Name: agent, Length: 333, dtype: int64"
      ]
     },
     "execution_count": 9,
     "metadata": {},
     "output_type": "execute_result"
    }
   ],
   "source": [
    "df['agent'].value_counts()"
   ]
  },
  {
   "cell_type": "code",
   "execution_count": 10,
   "id": "04e00971-1c79-4f96-a047-67c077b8d2cf",
   "metadata": {
    "tags": []
   },
   "outputs": [
    {
     "data": {
      "text/plain": [
       "'Kota Denpasar'"
      ]
     },
     "execution_count": 10,
     "metadata": {},
     "output_type": "execute_result"
    }
   ],
   "source": [
    "df['city'].mode()[0]"
   ]
  },
  {
   "cell_type": "markdown",
   "id": "787a0273-91c8-4a2c-8104-de54dc8cea71",
   "metadata": {},
   "source": [
    "## 1.1 COPY DF"
   ]
  },
  {
   "cell_type": "code",
   "execution_count": 11,
   "id": "fcba1537-7261-4684-9ab7-5bf340c42394",
   "metadata": {
    "tags": []
   },
   "outputs": [],
   "source": [
    "dfc = df.copy()"
   ]
  },
  {
   "cell_type": "code",
   "execution_count": 12,
   "id": "608c2b80-79a7-48ca-a9ce-96dff77c91b9",
   "metadata": {
    "tags": []
   },
   "outputs": [],
   "source": [
    "df1 = df.copy()"
   ]
  },
  {
   "cell_type": "markdown",
   "id": "ac5384f2-b390-4336-9b49-75f047a9c21f",
   "metadata": {},
   "source": [
    "## 1.2 Mengisi Data Null"
   ]
  },
  {
   "cell_type": "code",
   "execution_count": 13,
   "id": "1255694e-cb58-4553-ba91-d1296d494515",
   "metadata": {
    "tags": []
   },
   "outputs": [
    {
     "data": {
      "text/plain": [
       "hotel                                  0\n",
       "is_canceled                            0\n",
       "lead_time                              0\n",
       "arrival_date_year                      0\n",
       "arrival_date_month                     0\n",
       "arrival_date_week_number               0\n",
       "arrival_date_day_of_month              0\n",
       "stays_in_weekend_nights                0\n",
       "stays_in_weekdays_nights               0\n",
       "adults                                 0\n",
       "children                               4\n",
       "babies                                 0\n",
       "meal                                   0\n",
       "city                                 488\n",
       "market_segment                         0\n",
       "distribution_channel                   0\n",
       "is_repeated_guest                      0\n",
       "previous_cancellations                 0\n",
       "previous_bookings_not_canceled         0\n",
       "booking_changes                        0\n",
       "deposit_type                           0\n",
       "agent                              16340\n",
       "company                           112593\n",
       "days_in_waiting_list                   0\n",
       "customer_type                          0\n",
       "adr                                    0\n",
       "required_car_parking_spaces            0\n",
       "total_of_special_requests              0\n",
       "reservation_status                     0\n",
       "dtype: int64"
      ]
     },
     "execution_count": 13,
     "metadata": {},
     "output_type": "execute_result"
    }
   ],
   "source": [
    "df1.isna().sum()"
   ]
  },
  {
   "cell_type": "code",
   "execution_count": 14,
   "id": "278c22f9-0d06-401d-92d8-38dd046d6ace",
   "metadata": {
    "tags": []
   },
   "outputs": [],
   "source": [
    "df1['children'] = df['children'].fillna(df['children'].mode()[0])\n",
    "df1['city'] = df['city'].fillna(df['city'].mode()[0])\n",
    "df1['agent'] = df['agent'].fillna(df['agent'].mode()[0])\n",
    "df1['company'] = df['company'].fillna(df['company'].mode()[0])"
   ]
  },
  {
   "cell_type": "markdown",
   "id": "641c21e9-bea8-4759-9ee5-1aaf743a639b",
   "metadata": {},
   "source": [
    "Karena kolom-kolom yang memiliki value null merupakan tipe data kategorikal sehingga pengisian nilai kosong menggunakan **Modus**"
   ]
  },
  {
   "cell_type": "markdown",
   "id": "081bb459-8530-463a-b4c5-8fb9d7af7642",
   "metadata": {},
   "source": [
    "## 1.3 Mengganti Value yang Tidak Sesuai"
   ]
  },
  {
   "cell_type": "code",
   "execution_count": 15,
   "id": "1409d53d-33c5-4ec5-80d5-b7ca05caf91c",
   "metadata": {
    "tags": []
   },
   "outputs": [],
   "source": [
    "replacement_mapping = {'Breakfast': 'Breakfast', 'Dinner': 'Dinner', 'No Meal' : 'No Meal', 'Undefined' : 'Others', 'Full Board' : 'Full Board'}\n",
    "df1['meal'] = df['meal'].replace(replacement_mapping)"
   ]
  },
  {
   "cell_type": "markdown",
   "id": "bacf1a43-5bc7-4d0b-89b9-19e34a86f2ae",
   "metadata": {},
   "source": [
    "Value **Undefined** dianggap kurang sesuai karena tidak mendeskripsikan *meal* yang dipilih customer sehingga diganti dengan **Others**"
   ]
  },
  {
   "cell_type": "code",
   "execution_count": 16,
   "id": "3017bc3f-d862-4694-90ae-61860ef1a081",
   "metadata": {
    "tags": []
   },
   "outputs": [
    {
     "data": {
      "text/plain": [
       "Breakfast     92310\n",
       "Dinner        14463\n",
       "No Meal       10650\n",
       "Others         1169\n",
       "Full Board      798\n",
       "Name: meal, dtype: int64"
      ]
     },
     "execution_count": 16,
     "metadata": {},
     "output_type": "execute_result"
    }
   ],
   "source": [
    "df1['meal'].value_counts()"
   ]
  },
  {
   "cell_type": "markdown",
   "id": "253e73c2-14c0-45de-8466-e0d3032b0562",
   "metadata": {},
   "source": [
    "## 1.4 Membuang Data yang Tidak Diperlukan"
   ]
  },
  {
   "cell_type": "code",
   "execution_count": 17,
   "id": "43ce9170-4dcd-472c-bfe2-3be31d7b2f61",
   "metadata": {
    "tags": []
   },
   "outputs": [
    {
     "name": "stdout",
     "output_type": "stream",
     "text": [
      "<class 'pandas.core.frame.DataFrame'>\n",
      "RangeIndex: 119390 entries, 0 to 119389\n",
      "Data columns (total 29 columns):\n",
      " #   Column                          Non-Null Count   Dtype  \n",
      "---  ------                          --------------   -----  \n",
      " 0   hotel                           119390 non-null  object \n",
      " 1   is_canceled                     119390 non-null  int64  \n",
      " 2   lead_time                       119390 non-null  int64  \n",
      " 3   arrival_date_year               119390 non-null  int64  \n",
      " 4   arrival_date_month              119390 non-null  object \n",
      " 5   arrival_date_week_number        119390 non-null  int64  \n",
      " 6   arrival_date_day_of_month       119390 non-null  int64  \n",
      " 7   stays_in_weekend_nights         119390 non-null  int64  \n",
      " 8   stays_in_weekdays_nights        119390 non-null  int64  \n",
      " 9   adults                          119390 non-null  int64  \n",
      " 10  children                        119390 non-null  float64\n",
      " 11  babies                          119390 non-null  int64  \n",
      " 12  meal                            119390 non-null  object \n",
      " 13  city                            119390 non-null  object \n",
      " 14  market_segment                  119390 non-null  object \n",
      " 15  distribution_channel            119390 non-null  object \n",
      " 16  is_repeated_guest               119390 non-null  int64  \n",
      " 17  previous_cancellations          119390 non-null  int64  \n",
      " 18  previous_bookings_not_canceled  119390 non-null  int64  \n",
      " 19  booking_changes                 119390 non-null  int64  \n",
      " 20  deposit_type                    119390 non-null  object \n",
      " 21  agent                           119390 non-null  float64\n",
      " 22  company                         119390 non-null  float64\n",
      " 23  days_in_waiting_list            119390 non-null  int64  \n",
      " 24  customer_type                   119390 non-null  object \n",
      " 25  adr                             119390 non-null  float64\n",
      " 26  required_car_parking_spaces     119390 non-null  int64  \n",
      " 27  total_of_special_requests       119390 non-null  int64  \n",
      " 28  reservation_status              119390 non-null  object \n",
      "dtypes: float64(4), int64(16), object(9)\n",
      "memory usage: 26.4+ MB\n"
     ]
    }
   ],
   "source": [
    "df1.info()"
   ]
  },
  {
   "cell_type": "code",
   "execution_count": 18,
   "id": "aa562130-e1a4-4719-af43-7504d190da1b",
   "metadata": {
    "tags": []
   },
   "outputs": [],
   "source": [
    "df1['total_customer'] = df1['adults'] + df1['children'] + df1['babies']"
   ]
  },
  {
   "cell_type": "code",
   "execution_count": 19,
   "id": "5b165882-7263-45a5-bbb2-b4d8dbe27375",
   "metadata": {
    "tags": []
   },
   "outputs": [],
   "source": [
    "df1 = df1.drop(['adults','children','babies'], axis=1)"
   ]
  },
  {
   "cell_type": "markdown",
   "id": "16151a5d-23a9-46be-886a-6f7f524a6002",
   "metadata": {},
   "source": [
    "Dilakukan penghapusan kolom **adults**, **babies**, dan **children** dan dibuat menjadi satu kolom yang bernama **total_customer**"
   ]
  },
  {
   "cell_type": "markdown",
   "id": "cb5a130d-25fb-4105-b7ed-8fa586622208",
   "metadata": {},
   "source": [
    "# 2. Monthly Hotel Booking Analysis Based on Hotel Type"
   ]
  },
  {
   "cell_type": "code",
   "execution_count": 20,
   "id": "d03422f3-24fa-4222-b434-53004490e875",
   "metadata": {
    "tags": []
   },
   "outputs": [
    {
     "data": {
      "text/html": [
       "<div>\n",
       "<style scoped>\n",
       "    .dataframe tbody tr th:only-of-type {\n",
       "        vertical-align: middle;\n",
       "    }\n",
       "\n",
       "    .dataframe tbody tr th {\n",
       "        vertical-align: top;\n",
       "    }\n",
       "\n",
       "    .dataframe thead th {\n",
       "        text-align: right;\n",
       "    }\n",
       "</style>\n",
       "<table border=\"1\" class=\"dataframe\">\n",
       "  <thead>\n",
       "    <tr style=\"text-align: right;\">\n",
       "      <th></th>\n",
       "      <th>hotel</th>\n",
       "      <th>is_canceled</th>\n",
       "      <th>lead_time</th>\n",
       "      <th>arrival_date_year</th>\n",
       "      <th>arrival_date_month</th>\n",
       "      <th>arrival_date_week_number</th>\n",
       "      <th>arrival_date_day_of_month</th>\n",
       "      <th>stays_in_weekend_nights</th>\n",
       "      <th>stays_in_weekdays_nights</th>\n",
       "      <th>meal</th>\n",
       "      <th>city</th>\n",
       "      <th>market_segment</th>\n",
       "      <th>distribution_channel</th>\n",
       "      <th>is_repeated_guest</th>\n",
       "      <th>previous_cancellations</th>\n",
       "      <th>previous_bookings_not_canceled</th>\n",
       "      <th>booking_changes</th>\n",
       "      <th>deposit_type</th>\n",
       "      <th>agent</th>\n",
       "      <th>company</th>\n",
       "      <th>days_in_waiting_list</th>\n",
       "      <th>customer_type</th>\n",
       "      <th>adr</th>\n",
       "      <th>required_car_parking_spaces</th>\n",
       "      <th>total_of_special_requests</th>\n",
       "      <th>reservation_status</th>\n",
       "      <th>total_customer</th>\n",
       "    </tr>\n",
       "  </thead>\n",
       "  <tbody>\n",
       "    <tr>\n",
       "      <th>0</th>\n",
       "      <td>Resort Hotel</td>\n",
       "      <td>0</td>\n",
       "      <td>342</td>\n",
       "      <td>2017</td>\n",
       "      <td>September</td>\n",
       "      <td>27</td>\n",
       "      <td>1</td>\n",
       "      <td>0</td>\n",
       "      <td>0</td>\n",
       "      <td>Breakfast</td>\n",
       "      <td>Kota Denpasar</td>\n",
       "      <td>Direct</td>\n",
       "      <td>Direct</td>\n",
       "      <td>0</td>\n",
       "      <td>0</td>\n",
       "      <td>0</td>\n",
       "      <td>3</td>\n",
       "      <td>No Deposit</td>\n",
       "      <td>9.0</td>\n",
       "      <td>40.0</td>\n",
       "      <td>0</td>\n",
       "      <td>Personal</td>\n",
       "      <td>0.0</td>\n",
       "      <td>0</td>\n",
       "      <td>0</td>\n",
       "      <td>Check-Out</td>\n",
       "      <td>2.0</td>\n",
       "    </tr>\n",
       "    <tr>\n",
       "      <th>1</th>\n",
       "      <td>Resort Hotel</td>\n",
       "      <td>0</td>\n",
       "      <td>737</td>\n",
       "      <td>2017</td>\n",
       "      <td>September</td>\n",
       "      <td>27</td>\n",
       "      <td>1</td>\n",
       "      <td>0</td>\n",
       "      <td>0</td>\n",
       "      <td>Breakfast</td>\n",
       "      <td>Kota Denpasar</td>\n",
       "      <td>Direct</td>\n",
       "      <td>Direct</td>\n",
       "      <td>0</td>\n",
       "      <td>0</td>\n",
       "      <td>0</td>\n",
       "      <td>4</td>\n",
       "      <td>No Deposit</td>\n",
       "      <td>9.0</td>\n",
       "      <td>40.0</td>\n",
       "      <td>0</td>\n",
       "      <td>Personal</td>\n",
       "      <td>0.0</td>\n",
       "      <td>0</td>\n",
       "      <td>0</td>\n",
       "      <td>Check-Out</td>\n",
       "      <td>2.0</td>\n",
       "    </tr>\n",
       "    <tr>\n",
       "      <th>2</th>\n",
       "      <td>Resort Hotel</td>\n",
       "      <td>0</td>\n",
       "      <td>7</td>\n",
       "      <td>2017</td>\n",
       "      <td>September</td>\n",
       "      <td>27</td>\n",
       "      <td>1</td>\n",
       "      <td>0</td>\n",
       "      <td>1</td>\n",
       "      <td>Breakfast</td>\n",
       "      <td>Kabupaten Bangka</td>\n",
       "      <td>Direct</td>\n",
       "      <td>Direct</td>\n",
       "      <td>0</td>\n",
       "      <td>0</td>\n",
       "      <td>0</td>\n",
       "      <td>0</td>\n",
       "      <td>No Deposit</td>\n",
       "      <td>9.0</td>\n",
       "      <td>40.0</td>\n",
       "      <td>0</td>\n",
       "      <td>Personal</td>\n",
       "      <td>75.0</td>\n",
       "      <td>0</td>\n",
       "      <td>0</td>\n",
       "      <td>Check-Out</td>\n",
       "      <td>1.0</td>\n",
       "    </tr>\n",
       "    <tr>\n",
       "      <th>3</th>\n",
       "      <td>Resort Hotel</td>\n",
       "      <td>0</td>\n",
       "      <td>13</td>\n",
       "      <td>2017</td>\n",
       "      <td>September</td>\n",
       "      <td>27</td>\n",
       "      <td>1</td>\n",
       "      <td>0</td>\n",
       "      <td>1</td>\n",
       "      <td>Breakfast</td>\n",
       "      <td>Kabupaten Bangka</td>\n",
       "      <td>Corporate</td>\n",
       "      <td>Corporate</td>\n",
       "      <td>0</td>\n",
       "      <td>0</td>\n",
       "      <td>0</td>\n",
       "      <td>0</td>\n",
       "      <td>No Deposit</td>\n",
       "      <td>304.0</td>\n",
       "      <td>40.0</td>\n",
       "      <td>0</td>\n",
       "      <td>Personal</td>\n",
       "      <td>75.0</td>\n",
       "      <td>0</td>\n",
       "      <td>0</td>\n",
       "      <td>Check-Out</td>\n",
       "      <td>1.0</td>\n",
       "    </tr>\n",
       "    <tr>\n",
       "      <th>4</th>\n",
       "      <td>Resort Hotel</td>\n",
       "      <td>0</td>\n",
       "      <td>14</td>\n",
       "      <td>2017</td>\n",
       "      <td>September</td>\n",
       "      <td>27</td>\n",
       "      <td>1</td>\n",
       "      <td>0</td>\n",
       "      <td>2</td>\n",
       "      <td>Breakfast</td>\n",
       "      <td>Kabupaten Bangka</td>\n",
       "      <td>Online TA</td>\n",
       "      <td>TA/TO</td>\n",
       "      <td>0</td>\n",
       "      <td>0</td>\n",
       "      <td>0</td>\n",
       "      <td>0</td>\n",
       "      <td>No Deposit</td>\n",
       "      <td>240.0</td>\n",
       "      <td>40.0</td>\n",
       "      <td>0</td>\n",
       "      <td>Personal</td>\n",
       "      <td>98.0</td>\n",
       "      <td>0</td>\n",
       "      <td>1</td>\n",
       "      <td>Check-Out</td>\n",
       "      <td>2.0</td>\n",
       "    </tr>\n",
       "  </tbody>\n",
       "</table>\n",
       "</div>"
      ],
      "text/plain": [
       "          hotel  is_canceled  lead_time  arrival_date_year arrival_date_month  \\\n",
       "0  Resort Hotel            0        342               2017          September   \n",
       "1  Resort Hotel            0        737               2017          September   \n",
       "2  Resort Hotel            0          7               2017          September   \n",
       "3  Resort Hotel            0         13               2017          September   \n",
       "4  Resort Hotel            0         14               2017          September   \n",
       "\n",
       "   arrival_date_week_number  arrival_date_day_of_month  \\\n",
       "0                        27                          1   \n",
       "1                        27                          1   \n",
       "2                        27                          1   \n",
       "3                        27                          1   \n",
       "4                        27                          1   \n",
       "\n",
       "   stays_in_weekend_nights  stays_in_weekdays_nights       meal  \\\n",
       "0                        0                         0  Breakfast   \n",
       "1                        0                         0  Breakfast   \n",
       "2                        0                         1  Breakfast   \n",
       "3                        0                         1  Breakfast   \n",
       "4                        0                         2  Breakfast   \n",
       "\n",
       "               city market_segment distribution_channel  is_repeated_guest  \\\n",
       "0     Kota Denpasar         Direct               Direct                  0   \n",
       "1     Kota Denpasar         Direct               Direct                  0   \n",
       "2  Kabupaten Bangka         Direct               Direct                  0   \n",
       "3  Kabupaten Bangka      Corporate            Corporate                  0   \n",
       "4  Kabupaten Bangka      Online TA                TA/TO                  0   \n",
       "\n",
       "   previous_cancellations  previous_bookings_not_canceled  booking_changes  \\\n",
       "0                       0                               0                3   \n",
       "1                       0                               0                4   \n",
       "2                       0                               0                0   \n",
       "3                       0                               0                0   \n",
       "4                       0                               0                0   \n",
       "\n",
       "  deposit_type  agent  company  days_in_waiting_list customer_type   adr  \\\n",
       "0   No Deposit    9.0     40.0                     0      Personal   0.0   \n",
       "1   No Deposit    9.0     40.0                     0      Personal   0.0   \n",
       "2   No Deposit    9.0     40.0                     0      Personal  75.0   \n",
       "3   No Deposit  304.0     40.0                     0      Personal  75.0   \n",
       "4   No Deposit  240.0     40.0                     0      Personal  98.0   \n",
       "\n",
       "   required_car_parking_spaces  total_of_special_requests reservation_status  \\\n",
       "0                            0                          0          Check-Out   \n",
       "1                            0                          0          Check-Out   \n",
       "2                            0                          0          Check-Out   \n",
       "3                            0                          0          Check-Out   \n",
       "4                            0                          1          Check-Out   \n",
       "\n",
       "   total_customer  \n",
       "0             2.0  \n",
       "1             2.0  \n",
       "2             1.0  \n",
       "3             1.0  \n",
       "4             2.0  "
      ]
     },
     "execution_count": 20,
     "metadata": {},
     "output_type": "execute_result"
    }
   ],
   "source": [
    "df1.head()"
   ]
  },
  {
   "cell_type": "markdown",
   "id": "5c4f09bd-d6bf-4294-b892-80d30841d87f",
   "metadata": {},
   "source": [
    "## 2.1 Label Encoding Bulan"
   ]
  },
  {
   "cell_type": "code",
   "execution_count": 21,
   "id": "5f748b98-e3d4-4e65-8b68-b170d23c1f92",
   "metadata": {},
   "outputs": [],
   "source": [
    "mapping_month = {\n",
    "'January' : 1,\n",
    "    'February' : 2,\n",
    "    'March' : 3,\n",
    "    'April' : 4,\n",
    "    'May' : 5,\n",
    "    'June' : 6,\n",
    "    'July' : 7,\n",
    "    'August' : 8,\n",
    "    'September' : 9,\n",
    "    'October' : 10,\n",
    "    'November' : 11,\n",
    "    'December' : 12\n",
    "}"
   ]
  },
  {
   "cell_type": "code",
   "execution_count": 22,
   "id": "9580cb7e-cd25-4a29-9126-04c18590b5ba",
   "metadata": {
    "tags": []
   },
   "outputs": [],
   "source": [
    "df1['number_date_month'] = df1['arrival_date_month'].map(mapping_month)"
   ]
  },
  {
   "cell_type": "markdown",
   "id": "0586e157-6639-4d60-b32c-d4728c66f3d1",
   "metadata": {},
   "source": [
    "## 2.2 Tabel Agregat Jumlah Pesanan Hotel Setiap Bulannya"
   ]
  },
  {
   "cell_type": "code",
   "execution_count": 44,
   "id": "de0d9009-6483-4744-9301-4eafe86897a1",
   "metadata": {
    "tags": []
   },
   "outputs": [
    {
     "data": {
      "text/html": [
       "<div>\n",
       "<style scoped>\n",
       "    .dataframe tbody tr th:only-of-type {\n",
       "        vertical-align: middle;\n",
       "    }\n",
       "\n",
       "    .dataframe tbody tr th {\n",
       "        vertical-align: top;\n",
       "    }\n",
       "\n",
       "    .dataframe thead th {\n",
       "        text-align: right;\n",
       "    }\n",
       "</style>\n",
       "<table border=\"1\" class=\"dataframe\">\n",
       "  <thead>\n",
       "    <tr style=\"text-align: right;\">\n",
       "      <th></th>\n",
       "      <th>hotel_type</th>\n",
       "      <th>arrival_month</th>\n",
       "      <th>unique_year</th>\n",
       "      <th>num_booking</th>\n",
       "    </tr>\n",
       "  </thead>\n",
       "  <tbody>\n",
       "    <tr>\n",
       "      <th>0</th>\n",
       "      <td>City Hotel</td>\n",
       "      <td>April</td>\n",
       "      <td>2</td>\n",
       "      <td>4965</td>\n",
       "    </tr>\n",
       "    <tr>\n",
       "      <th>1</th>\n",
       "      <td>City Hotel</td>\n",
       "      <td>August</td>\n",
       "      <td>2</td>\n",
       "      <td>7894</td>\n",
       "    </tr>\n",
       "    <tr>\n",
       "      <th>2</th>\n",
       "      <td>City Hotel</td>\n",
       "      <td>December</td>\n",
       "      <td>2</td>\n",
       "      <td>7605</td>\n",
       "    </tr>\n",
       "  </tbody>\n",
       "</table>\n",
       "</div>"
      ],
      "text/plain": [
       "   hotel_type arrival_month  unique_year  num_booking\n",
       "0  City Hotel         April            2         4965\n",
       "1  City Hotel        August            2         7894\n",
       "2  City Hotel      December            2         7605"
      ]
     },
     "execution_count": 44,
     "metadata": {},
     "output_type": "execute_result"
    }
   ],
   "source": [
    "df1_gr = df1.groupby(['hotel', 'arrival_date_month'])['arrival_date_year'].agg(['nunique', 'count']).reset_index()\n",
    "df1_gr.columns = ['hotel_type', 'arrival_month', 'unique_year', 'num_booking'] # mengubah nama kolom tabel\n",
    "df1_gr.head(3)"
   ]
  },
  {
   "cell_type": "code",
   "execution_count": 45,
   "id": "d25d6b16-b539-48aa-a909-2d6fb8b4e668",
   "metadata": {
    "tags": []
   },
   "outputs": [
    {
     "data": {
      "text/html": [
       "<div>\n",
       "<style scoped>\n",
       "    .dataframe tbody tr th:only-of-type {\n",
       "        vertical-align: middle;\n",
       "    }\n",
       "\n",
       "    .dataframe tbody tr th {\n",
       "        vertical-align: top;\n",
       "    }\n",
       "\n",
       "    .dataframe thead th {\n",
       "        text-align: right;\n",
       "    }\n",
       "</style>\n",
       "<table border=\"1\" class=\"dataframe\">\n",
       "  <thead>\n",
       "    <tr style=\"text-align: right;\">\n",
       "      <th></th>\n",
       "      <th>hotel_type</th>\n",
       "      <th>arrival_month</th>\n",
       "      <th>unique_year</th>\n",
       "      <th>num_booking</th>\n",
       "      <th>average_num_booking</th>\n",
       "    </tr>\n",
       "  </thead>\n",
       "  <tbody>\n",
       "    <tr>\n",
       "      <th>0</th>\n",
       "      <td>City Hotel</td>\n",
       "      <td>April</td>\n",
       "      <td>2</td>\n",
       "      <td>4965</td>\n",
       "      <td>2482.0</td>\n",
       "    </tr>\n",
       "    <tr>\n",
       "      <th>1</th>\n",
       "      <td>City Hotel</td>\n",
       "      <td>August</td>\n",
       "      <td>2</td>\n",
       "      <td>7894</td>\n",
       "      <td>3947.0</td>\n",
       "    </tr>\n",
       "    <tr>\n",
       "      <th>2</th>\n",
       "      <td>City Hotel</td>\n",
       "      <td>December</td>\n",
       "      <td>2</td>\n",
       "      <td>7605</td>\n",
       "      <td>3802.0</td>\n",
       "    </tr>\n",
       "  </tbody>\n",
       "</table>\n",
       "</div>"
      ],
      "text/plain": [
       "   hotel_type arrival_month  unique_year  num_booking  average_num_booking\n",
       "0  City Hotel         April            2         4965               2482.0\n",
       "1  City Hotel        August            2         7894               3947.0\n",
       "2  City Hotel      December            2         7605               3802.0"
      ]
     },
     "execution_count": 45,
     "metadata": {},
     "output_type": "execute_result"
    }
   ],
   "source": [
    "# normalisasi untuk mendapatkan jumlah rata-rata pemesanan di suatu bulan pada tahun yang berbeda\n",
    "df1_gr['average_num_booking'] = round(df1_gr['num_booking']/df1_gr['unique_year'])\n",
    "df1_gr.head(3)"
   ]
  },
  {
   "cell_type": "code",
   "execution_count": 47,
   "id": "7dd42566-5c56-49ca-b97f-65578a4139bb",
   "metadata": {
    "tags": []
   },
   "outputs": [
    {
     "data": {
      "text/html": [
       "<div>\n",
       "<style scoped>\n",
       "    .dataframe tbody tr th:only-of-type {\n",
       "        vertical-align: middle;\n",
       "    }\n",
       "\n",
       "    .dataframe tbody tr th {\n",
       "        vertical-align: top;\n",
       "    }\n",
       "\n",
       "    .dataframe thead th {\n",
       "        text-align: right;\n",
       "    }\n",
       "</style>\n",
       "<table border=\"1\" class=\"dataframe\">\n",
       "  <thead>\n",
       "    <tr style=\"text-align: right;\">\n",
       "      <th></th>\n",
       "      <th>hotel_type</th>\n",
       "      <th>arrival_month</th>\n",
       "      <th>unique_year</th>\n",
       "      <th>num_booking</th>\n",
       "      <th>average_num_booking</th>\n",
       "      <th>month</th>\n",
       "    </tr>\n",
       "  </thead>\n",
       "  <tbody>\n",
       "    <tr>\n",
       "      <th>0</th>\n",
       "      <td>City Hotel</td>\n",
       "      <td>April</td>\n",
       "      <td>2</td>\n",
       "      <td>4965</td>\n",
       "      <td>2482.0</td>\n",
       "      <td>Apr</td>\n",
       "    </tr>\n",
       "    <tr>\n",
       "      <th>1</th>\n",
       "      <td>City Hotel</td>\n",
       "      <td>August</td>\n",
       "      <td>2</td>\n",
       "      <td>7894</td>\n",
       "      <td>3947.0</td>\n",
       "      <td>Aug</td>\n",
       "    </tr>\n",
       "    <tr>\n",
       "      <th>2</th>\n",
       "      <td>City Hotel</td>\n",
       "      <td>December</td>\n",
       "      <td>2</td>\n",
       "      <td>7605</td>\n",
       "      <td>3802.0</td>\n",
       "      <td>Dec</td>\n",
       "    </tr>\n",
       "  </tbody>\n",
       "</table>\n",
       "</div>"
      ],
      "text/plain": [
       "   hotel_type arrival_month  unique_year  num_booking  average_num_booking  \\\n",
       "0  City Hotel         April            2         4965               2482.0   \n",
       "1  City Hotel        August            2         7894               3947.0   \n",
       "2  City Hotel      December            2         7605               3802.0   \n",
       "\n",
       "  month  \n",
       "0   Apr  \n",
       "1   Aug  \n",
       "2   Dec  "
      ]
     },
     "execution_count": 47,
     "metadata": {},
     "output_type": "execute_result"
    }
   ],
   "source": [
    "# Mengurutkan data berdasarkan bulan, serta membuat singkatan Bulan agar lebih mudah divisualisasi\n",
    "ordered_months = [\"Jan\", \"Feb\", \"Mar\", \"Apr\", \"May\", \"Jun\", \n",
    "                  \"Jul\", \"Aug\", \"Sep\", \"Oct\", \"Nov\", \"Dec\"]\n",
    "df1_gr[\"month\"] = df1_gr[\"arrival_month\"].str[:3] # mengambil 3 huruf terdepan dari setiap bulan\n",
    "df1_gr[\"month\"] = pd.Categorical(df1_gr[\"month\"], categories=ordered_months, ordered=True) # mengurutkan bulan\n",
    "\n",
    "df1_gr.head(3)"
   ]
  },
  {
   "cell_type": "markdown",
   "id": "419570dc-e61b-414c-9968-ef23bdff7f3c",
   "metadata": {},
   "source": [
    "## 2.3 Grafik Jumlah Pesanan Hotel per Bulan"
   ]
  },
  {
   "cell_type": "code",
   "execution_count": 86,
   "id": "51195ed2-8402-4c7c-bdf5-086c9d1f67be",
   "metadata": {
    "tags": []
   },
   "outputs": [
    {
     "data": {
      "image/png": "[encoded data removed]",
      "text/plain": [
       "<Figure size 1500x1000 with 1 Axes>"
      ]
     },
     "metadata": {},
     "output_type": "display_data"
    }
   ],
   "source": [
    "plt.figure(figsize=(15,10)) # mengatur ukuran figure\n",
    "sns.lineplot(x='month', y='average_num_booking', hue='hotel_type', \n",
    "             size=\"hotel_type\", sizes=(2.5, 2.5), data=df1_gr) # plot awal menggunakan lineplot dari library seaborn\n",
    "\n",
    "plt.tick_params(axis='both', which='major', labelsize=14) # memperbesar ukuran x-y axis label\n",
    "\n",
    "plt.legend(title='Hotel Type', title_fontsize=15, prop={'size':13}) # mengatur judul dan ukuran font pada legenda\n",
    "\n",
    "plt.xlabel('Kedatangan', fontsize=15) # mengatur title pada x-axis \n",
    "plt.ylabel('Rerata Jumlah Booking', fontsize=15) # mengatur title pada y-axis\n",
    "plt.ylim(0, 4800) # membatasi y axis\n",
    "\n",
    "plt.axvline(4, ls='--', color='red') # membuat garis vertikal untuk menghighlight insight\n",
    "plt.axvline(6, ls='--', color='red') # membuat garis vertikal untuk menghighlight insight\n",
    "plt.text(x=4.5, y=4400, s='Holiday \\nSeason', fontsize=16, color='red') # menambahkan teks keterangan\n",
    "plt.stackplot(np.arange(4,7,1), [[4800]], color='indianred', alpha=0.3) # memberikan blok warna pada area yang dihighlight 2 garis vertikal\n",
    "\n",
    "plt.axvline(9, ls='--', color='red') # membuat garis vertikal untuk menghighlight insight\n",
    "plt.axvline(11, ls='--', color='red') # membuat garis vertikal untuk menghighlight insight\n",
    "plt.text(x=9.5, y=4400, s='Holiday \\nSeason', fontsize=16, color='red') # menambahkan teks keterangan\n",
    "plt.stackplot(np.arange(9,12,1), [[4800]], color='indianred', alpha=0.3) # memberikan blok warna pada\n",
    "\n",
    "plt.text(x=-0.5, y=5200, s=\"Kedua Hotel Memiliki Banyak Customer pada Musim Liburan\", \n",
    "         fontsize=20, fontweight='bold') # memberikan judul yang informatif\n",
    "plt.text(x=-0.5, y=4850, s=\"City Hotel mengalami penurunan tamu pada bulan Agustus dan September, sedangkan kedua hotel \\nmengalami penurunan pelanggan di luar musim liburan (Jan-Mar)\", \n",
    "         fontsize=18) # memberikan keterangan tambahan atas judul\n",
    "\n",
    "plt.tight_layout() # mengatur layout dari visualisasi agar tidak terpotong\n",
    "plt.show()"
   ]
  },
  {
   "cell_type": "markdown",
   "id": "71e9accf-650f-4a25-8be2-3f47169be279",
   "metadata": {},
   "source": [
    "## 2.5 Interpretasi Data"
   ]
  },
  {
   "cell_type": "markdown",
   "id": "74a1e730-ae86-463f-9a5c-cf45c7253ab2",
   "metadata": {},
   "source": [
    "- **City Hotel**\n",
    "Berdasarkan grafik jumlah pesanan **City Hotel** dapat dilihat bahwa rata-rata booking terendah ada pada Bulan Maret, sedangkan tertinggi terjadi pada Bulan Juli. Jumlah pesanan pada **City Hotel** meningkat signifikan hingga Bulan Juli, ini terjadi karena pada Bulan Mei hingga Juli merupakan musim liburan baik bagi pelajar maupun mahasiswa. Pada Bulan-bulan berikutnya terjadi penurunan kembali hingga Bulan September hingga Desember yang juga terjadi karena musim liburan dan mendekati Natal serta tahun baru.\n",
    "- **Resort Hotel**\n",
    "Berdasarkan grafik jumlah pesanan **Resort Hotel** dapat dilihat bahwa rata-rata booking terendah terjadi pada Bulan Maret, sedangkan tertinggi terjadi pada Bulan Juni. Jumlah peningkatan pesanan ini meningkat pada Bulan April hingga Juni yang dikarenakan musim liburan, lalu terjadi lagi penurunan pada Bulan Agustus - September dan kembali meningkat pada Bulan Oktober hingga Desember yang mana ini mulai memasuki musim liburan dan mendekati Natal dan Tahun Baru."
   ]
  },
  {
   "cell_type": "markdown",
   "id": "cbe39e5c-a114-4293-aaaf-0953d0a735c1",
   "metadata": {},
   "source": [
    "# 3. Impact Analysis Of Stay Duration On Hotel Bookings Cancellation Rates"
   ]
  },
  {
   "cell_type": "code",
   "execution_count": 28,
   "id": "1a533fda-7fc6-4a29-8d02-a80251972f1f",
   "metadata": {
    "tags": []
   },
   "outputs": [
    {
     "data": {
      "text/html": [
       "<div>\n",
       "<style scoped>\n",
       "    .dataframe tbody tr th:only-of-type {\n",
       "        vertical-align: middle;\n",
       "    }\n",
       "\n",
       "    .dataframe tbody tr th {\n",
       "        vertical-align: top;\n",
       "    }\n",
       "\n",
       "    .dataframe thead th {\n",
       "        text-align: right;\n",
       "    }\n",
       "</style>\n",
       "<table border=\"1\" class=\"dataframe\">\n",
       "  <thead>\n",
       "    <tr style=\"text-align: right;\">\n",
       "      <th></th>\n",
       "      <th>hotel</th>\n",
       "      <th>is_canceled</th>\n",
       "      <th>lead_time</th>\n",
       "      <th>arrival_date_year</th>\n",
       "      <th>arrival_date_month</th>\n",
       "      <th>arrival_date_week_number</th>\n",
       "      <th>arrival_date_day_of_month</th>\n",
       "      <th>stays_in_weekend_nights</th>\n",
       "      <th>stays_in_weekdays_nights</th>\n",
       "      <th>meal</th>\n",
       "      <th>city</th>\n",
       "      <th>market_segment</th>\n",
       "      <th>distribution_channel</th>\n",
       "      <th>is_repeated_guest</th>\n",
       "      <th>previous_cancellations</th>\n",
       "      <th>previous_bookings_not_canceled</th>\n",
       "      <th>booking_changes</th>\n",
       "      <th>deposit_type</th>\n",
       "      <th>agent</th>\n",
       "      <th>company</th>\n",
       "      <th>days_in_waiting_list</th>\n",
       "      <th>customer_type</th>\n",
       "      <th>adr</th>\n",
       "      <th>required_car_parking_spaces</th>\n",
       "      <th>total_of_special_requests</th>\n",
       "      <th>reservation_status</th>\n",
       "      <th>total_customer</th>\n",
       "      <th>number_date_month</th>\n",
       "    </tr>\n",
       "  </thead>\n",
       "  <tbody>\n",
       "    <tr>\n",
       "      <th>0</th>\n",
       "      <td>Resort Hotel</td>\n",
       "      <td>0</td>\n",
       "      <td>342</td>\n",
       "      <td>2017</td>\n",
       "      <td>September</td>\n",
       "      <td>27</td>\n",
       "      <td>1</td>\n",
       "      <td>0</td>\n",
       "      <td>0</td>\n",
       "      <td>Breakfast</td>\n",
       "      <td>Kota Denpasar</td>\n",
       "      <td>Direct</td>\n",
       "      <td>Direct</td>\n",
       "      <td>0</td>\n",
       "      <td>0</td>\n",
       "      <td>0</td>\n",
       "      <td>3</td>\n",
       "      <td>No Deposit</td>\n",
       "      <td>9.0</td>\n",
       "      <td>40.0</td>\n",
       "      <td>0</td>\n",
       "      <td>Personal</td>\n",
       "      <td>0.0</td>\n",
       "      <td>0</td>\n",
       "      <td>0</td>\n",
       "      <td>Check-Out</td>\n",
       "      <td>2.0</td>\n",
       "      <td>9</td>\n",
       "    </tr>\n",
       "    <tr>\n",
       "      <th>1</th>\n",
       "      <td>Resort Hotel</td>\n",
       "      <td>0</td>\n",
       "      <td>737</td>\n",
       "      <td>2017</td>\n",
       "      <td>September</td>\n",
       "      <td>27</td>\n",
       "      <td>1</td>\n",
       "      <td>0</td>\n",
       "      <td>0</td>\n",
       "      <td>Breakfast</td>\n",
       "      <td>Kota Denpasar</td>\n",
       "      <td>Direct</td>\n",
       "      <td>Direct</td>\n",
       "      <td>0</td>\n",
       "      <td>0</td>\n",
       "      <td>0</td>\n",
       "      <td>4</td>\n",
       "      <td>No Deposit</td>\n",
       "      <td>9.0</td>\n",
       "      <td>40.0</td>\n",
       "      <td>0</td>\n",
       "      <td>Personal</td>\n",
       "      <td>0.0</td>\n",
       "      <td>0</td>\n",
       "      <td>0</td>\n",
       "      <td>Check-Out</td>\n",
       "      <td>2.0</td>\n",
       "      <td>9</td>\n",
       "    </tr>\n",
       "    <tr>\n",
       "      <th>2</th>\n",
       "      <td>Resort Hotel</td>\n",
       "      <td>0</td>\n",
       "      <td>7</td>\n",
       "      <td>2017</td>\n",
       "      <td>September</td>\n",
       "      <td>27</td>\n",
       "      <td>1</td>\n",
       "      <td>0</td>\n",
       "      <td>1</td>\n",
       "      <td>Breakfast</td>\n",
       "      <td>Kabupaten Bangka</td>\n",
       "      <td>Direct</td>\n",
       "      <td>Direct</td>\n",
       "      <td>0</td>\n",
       "      <td>0</td>\n",
       "      <td>0</td>\n",
       "      <td>0</td>\n",
       "      <td>No Deposit</td>\n",
       "      <td>9.0</td>\n",
       "      <td>40.0</td>\n",
       "      <td>0</td>\n",
       "      <td>Personal</td>\n",
       "      <td>75.0</td>\n",
       "      <td>0</td>\n",
       "      <td>0</td>\n",
       "      <td>Check-Out</td>\n",
       "      <td>1.0</td>\n",
       "      <td>9</td>\n",
       "    </tr>\n",
       "    <tr>\n",
       "      <th>3</th>\n",
       "      <td>Resort Hotel</td>\n",
       "      <td>0</td>\n",
       "      <td>13</td>\n",
       "      <td>2017</td>\n",
       "      <td>September</td>\n",
       "      <td>27</td>\n",
       "      <td>1</td>\n",
       "      <td>0</td>\n",
       "      <td>1</td>\n",
       "      <td>Breakfast</td>\n",
       "      <td>Kabupaten Bangka</td>\n",
       "      <td>Corporate</td>\n",
       "      <td>Corporate</td>\n",
       "      <td>0</td>\n",
       "      <td>0</td>\n",
       "      <td>0</td>\n",
       "      <td>0</td>\n",
       "      <td>No Deposit</td>\n",
       "      <td>304.0</td>\n",
       "      <td>40.0</td>\n",
       "      <td>0</td>\n",
       "      <td>Personal</td>\n",
       "      <td>75.0</td>\n",
       "      <td>0</td>\n",
       "      <td>0</td>\n",
       "      <td>Check-Out</td>\n",
       "      <td>1.0</td>\n",
       "      <td>9</td>\n",
       "    </tr>\n",
       "    <tr>\n",
       "      <th>4</th>\n",
       "      <td>Resort Hotel</td>\n",
       "      <td>0</td>\n",
       "      <td>14</td>\n",
       "      <td>2017</td>\n",
       "      <td>September</td>\n",
       "      <td>27</td>\n",
       "      <td>1</td>\n",
       "      <td>0</td>\n",
       "      <td>2</td>\n",
       "      <td>Breakfast</td>\n",
       "      <td>Kabupaten Bangka</td>\n",
       "      <td>Online TA</td>\n",
       "      <td>TA/TO</td>\n",
       "      <td>0</td>\n",
       "      <td>0</td>\n",
       "      <td>0</td>\n",
       "      <td>0</td>\n",
       "      <td>No Deposit</td>\n",
       "      <td>240.0</td>\n",
       "      <td>40.0</td>\n",
       "      <td>0</td>\n",
       "      <td>Personal</td>\n",
       "      <td>98.0</td>\n",
       "      <td>0</td>\n",
       "      <td>1</td>\n",
       "      <td>Check-Out</td>\n",
       "      <td>2.0</td>\n",
       "      <td>9</td>\n",
       "    </tr>\n",
       "  </tbody>\n",
       "</table>\n",
       "</div>"
      ],
      "text/plain": [
       "          hotel  is_canceled  lead_time  arrival_date_year arrival_date_month  \\\n",
       "0  Resort Hotel            0        342               2017          September   \n",
       "1  Resort Hotel            0        737               2017          September   \n",
       "2  Resort Hotel            0          7               2017          September   \n",
       "3  Resort Hotel            0         13               2017          September   \n",
       "4  Resort Hotel            0         14               2017          September   \n",
       "\n",
       "   arrival_date_week_number  arrival_date_day_of_month  \\\n",
       "0                        27                          1   \n",
       "1                        27                          1   \n",
       "2                        27                          1   \n",
       "3                        27                          1   \n",
       "4                        27                          1   \n",
       "\n",
       "   stays_in_weekend_nights  stays_in_weekdays_nights       meal  \\\n",
       "0                        0                         0  Breakfast   \n",
       "1                        0                         0  Breakfast   \n",
       "2                        0                         1  Breakfast   \n",
       "3                        0                         1  Breakfast   \n",
       "4                        0                         2  Breakfast   \n",
       "\n",
       "               city market_segment distribution_channel  is_repeated_guest  \\\n",
       "0     Kota Denpasar         Direct               Direct                  0   \n",
       "1     Kota Denpasar         Direct               Direct                  0   \n",
       "2  Kabupaten Bangka         Direct               Direct                  0   \n",
       "3  Kabupaten Bangka      Corporate            Corporate                  0   \n",
       "4  Kabupaten Bangka      Online TA                TA/TO                  0   \n",
       "\n",
       "   previous_cancellations  previous_bookings_not_canceled  booking_changes  \\\n",
       "0                       0                               0                3   \n",
       "1                       0                               0                4   \n",
       "2                       0                               0                0   \n",
       "3                       0                               0                0   \n",
       "4                       0                               0                0   \n",
       "\n",
       "  deposit_type  agent  company  days_in_waiting_list customer_type   adr  \\\n",
       "0   No Deposit    9.0     40.0                     0      Personal   0.0   \n",
       "1   No Deposit    9.0     40.0                     0      Personal   0.0   \n",
       "2   No Deposit    9.0     40.0                     0      Personal  75.0   \n",
       "3   No Deposit  304.0     40.0                     0      Personal  75.0   \n",
       "4   No Deposit  240.0     40.0                     0      Personal  98.0   \n",
       "\n",
       "   required_car_parking_spaces  total_of_special_requests reservation_status  \\\n",
       "0                            0                          0          Check-Out   \n",
       "1                            0                          0          Check-Out   \n",
       "2                            0                          0          Check-Out   \n",
       "3                            0                          0          Check-Out   \n",
       "4                            0                          1          Check-Out   \n",
       "\n",
       "   total_customer  number_date_month  \n",
       "0             2.0                  9  \n",
       "1             2.0                  9  \n",
       "2             1.0                  9  \n",
       "3             1.0                  9  \n",
       "4             2.0                  9  "
      ]
     },
     "execution_count": 28,
     "metadata": {},
     "output_type": "execute_result"
    }
   ],
   "source": [
    "df1.head()"
   ]
  },
  {
   "cell_type": "markdown",
   "id": "10b4d022-dcc3-453e-b93c-a43a90fad25a",
   "metadata": {},
   "source": [
    "## 3.1 Membuat Kolom Baru Berisi Total Durasi Menginap"
   ]
  },
  {
   "cell_type": "code",
   "execution_count": 56,
   "id": "09717a07-770e-4941-bedd-37d948c5df52",
   "metadata": {
    "tags": []
   },
   "outputs": [
    {
     "data": {
      "image/png": "[encoded data removed]",
      "text/plain": [
       "<Figure size 500x300 with 1 Axes>"
      ]
     },
     "metadata": {},
     "output_type": "display_data"
    }
   ],
   "source": [
    "plt.figure(figsize=(5,3))\n",
    "df1['stay_duration'] = df1['stays_in_weekend_nights'] + df1['stays_in_weekdays_nights']\n",
    "sns.histplot(data=df1, x='stay_duration', binwidth=5, color=\"blue\")\n",
    "plt.show()"
   ]
  },
  {
   "cell_type": "markdown",
   "id": "a5ec1de1-f5fb-41d0-a090-234b3cb5d577",
   "metadata": {},
   "source": [
    "Berdasarkan grafik diatas, dapat dilihat bahwa persebaran data terlihat right-skewed. Oleh karena itu dilakukan pengelompokkan untuk membuat persebarannya menjadi lebih merata. Pengelompokkan tersebut dilakukan pada tiap minggu dalam 1 Bulan"
   ]
  },
  {
   "cell_type": "markdown",
   "id": "0f631bd2-27ad-4016-bb90-2d9f51be2939",
   "metadata": {},
   "source": [
    "## 3.2 Mengelompokkan Nilai-nilai dari Tabel stay_duration"
   ]
  },
  {
   "cell_type": "code",
   "execution_count": 72,
   "id": "14080f6c-33d1-4d4e-bd5b-f018ee490300",
   "metadata": {
    "tags": []
   },
   "outputs": [],
   "source": [
    "df1 = df1.drop('stay_group',axis=1)"
   ]
  },
  {
   "cell_type": "code",
   "execution_count": 84,
   "id": "30b4ba39-9258-44e4-9141-6f779319a3bb",
   "metadata": {
    "tags": []
   },
   "outputs": [
    {
     "data": {
      "text/html": [
       "<div>\n",
       "<style scoped>\n",
       "    .dataframe tbody tr th:only-of-type {\n",
       "        vertical-align: middle;\n",
       "    }\n",
       "\n",
       "    .dataframe tbody tr th {\n",
       "        vertical-align: top;\n",
       "    }\n",
       "\n",
       "    .dataframe thead th {\n",
       "        text-align: right;\n",
       "    }\n",
       "</style>\n",
       "<table border=\"1\" class=\"dataframe\">\n",
       "  <thead>\n",
       "    <tr style=\"text-align: right;\">\n",
       "      <th></th>\n",
       "      <th>hotel</th>\n",
       "      <th>is_canceled</th>\n",
       "      <th>lead_time</th>\n",
       "      <th>arrival_date_year</th>\n",
       "      <th>arrival_date_month</th>\n",
       "      <th>arrival_date_week_number</th>\n",
       "      <th>arrival_date_day_of_month</th>\n",
       "      <th>stays_in_weekend_nights</th>\n",
       "      <th>stays_in_weekdays_nights</th>\n",
       "      <th>meal</th>\n",
       "      <th>city</th>\n",
       "      <th>market_segment</th>\n",
       "      <th>distribution_channel</th>\n",
       "      <th>is_repeated_guest</th>\n",
       "      <th>previous_cancellations</th>\n",
       "      <th>previous_bookings_not_canceled</th>\n",
       "      <th>booking_changes</th>\n",
       "      <th>deposit_type</th>\n",
       "      <th>agent</th>\n",
       "      <th>company</th>\n",
       "      <th>days_in_waiting_list</th>\n",
       "      <th>customer_type</th>\n",
       "      <th>adr</th>\n",
       "      <th>required_car_parking_spaces</th>\n",
       "      <th>total_of_special_requests</th>\n",
       "      <th>reservation_status</th>\n",
       "      <th>total_customer</th>\n",
       "      <th>number_date_month</th>\n",
       "      <th>stay_duration</th>\n",
       "      <th>lead_time_group</th>\n",
       "      <th>stay_group</th>\n",
       "    </tr>\n",
       "  </thead>\n",
       "  <tbody>\n",
       "    <tr>\n",
       "      <th>0</th>\n",
       "      <td>Resort Hotel</td>\n",
       "      <td>0</td>\n",
       "      <td>342</td>\n",
       "      <td>2017</td>\n",
       "      <td>September</td>\n",
       "      <td>27</td>\n",
       "      <td>1</td>\n",
       "      <td>0</td>\n",
       "      <td>0</td>\n",
       "      <td>Breakfast</td>\n",
       "      <td>Kota Denpasar</td>\n",
       "      <td>Direct</td>\n",
       "      <td>Direct</td>\n",
       "      <td>0</td>\n",
       "      <td>0</td>\n",
       "      <td>0</td>\n",
       "      <td>3</td>\n",
       "      <td>No Deposit</td>\n",
       "      <td>9.0</td>\n",
       "      <td>40.0</td>\n",
       "      <td>0</td>\n",
       "      <td>Personal</td>\n",
       "      <td>0.0</td>\n",
       "      <td>0</td>\n",
       "      <td>0</td>\n",
       "      <td>Check-Out</td>\n",
       "      <td>2.0</td>\n",
       "      <td>9</td>\n",
       "      <td>0</td>\n",
       "      <td>12 months</td>\n",
       "      <td>0</td>\n",
       "    </tr>\n",
       "    <tr>\n",
       "      <th>1</th>\n",
       "      <td>Resort Hotel</td>\n",
       "      <td>0</td>\n",
       "      <td>737</td>\n",
       "      <td>2017</td>\n",
       "      <td>September</td>\n",
       "      <td>27</td>\n",
       "      <td>1</td>\n",
       "      <td>0</td>\n",
       "      <td>0</td>\n",
       "      <td>Breakfast</td>\n",
       "      <td>Kota Denpasar</td>\n",
       "      <td>Direct</td>\n",
       "      <td>Direct</td>\n",
       "      <td>0</td>\n",
       "      <td>0</td>\n",
       "      <td>0</td>\n",
       "      <td>4</td>\n",
       "      <td>No Deposit</td>\n",
       "      <td>9.0</td>\n",
       "      <td>40.0</td>\n",
       "      <td>0</td>\n",
       "      <td>Personal</td>\n",
       "      <td>0.0</td>\n",
       "      <td>0</td>\n",
       "      <td>0</td>\n",
       "      <td>Check-Out</td>\n",
       "      <td>2.0</td>\n",
       "      <td>9</td>\n",
       "      <td>0</td>\n",
       "      <td>&gt; 1 year</td>\n",
       "      <td>0</td>\n",
       "    </tr>\n",
       "  </tbody>\n",
       "</table>\n",
       "</div>"
      ],
      "text/plain": [
       "          hotel  is_canceled  lead_time  arrival_date_year arrival_date_month  \\\n",
       "0  Resort Hotel            0        342               2017          September   \n",
       "1  Resort Hotel            0        737               2017          September   \n",
       "\n",
       "   arrival_date_week_number  arrival_date_day_of_month  \\\n",
       "0                        27                          1   \n",
       "1                        27                          1   \n",
       "\n",
       "   stays_in_weekend_nights  stays_in_weekdays_nights       meal  \\\n",
       "0                        0                         0  Breakfast   \n",
       "1                        0                         0  Breakfast   \n",
       "\n",
       "            city market_segment distribution_channel  is_repeated_guest  \\\n",
       "0  Kota Denpasar         Direct               Direct                  0   \n",
       "1  Kota Denpasar         Direct               Direct                  0   \n",
       "\n",
       "   previous_cancellations  previous_bookings_not_canceled  booking_changes  \\\n",
       "0                       0                               0                3   \n",
       "1                       0                               0                4   \n",
       "\n",
       "  deposit_type  agent  company  days_in_waiting_list customer_type  adr  \\\n",
       "0   No Deposit    9.0     40.0                     0      Personal  0.0   \n",
       "1   No Deposit    9.0     40.0                     0      Personal  0.0   \n",
       "\n",
       "   required_car_parking_spaces  total_of_special_requests reservation_status  \\\n",
       "0                            0                          0          Check-Out   \n",
       "1                            0                          0          Check-Out   \n",
       "\n",
       "   total_customer  number_date_month  stay_duration lead_time_group  \\\n",
       "0             2.0                  9              0       12 months   \n",
       "1             2.0                  9              0        > 1 year   \n",
       "\n",
       "   stay_group  \n",
       "0           0  \n",
       "1           0  "
      ]
     },
     "execution_count": 84,
     "metadata": {},
     "output_type": "execute_result"
    }
   ],
   "source": [
    "df1.head(2)"
   ]
  },
  {
   "cell_type": "code",
   "execution_count": 77,
   "id": "dca18d08-61ae-4689-81ed-8dfd9d55e61a",
   "metadata": {
    "tags": []
   },
   "outputs": [],
   "source": [
    "df1['stay_group'] = np.where(df1['stay_duration'] > 21, 21, \n",
    "                                       np.where(df1['stay_duration'] > 14, 15, df1['stay_duration']))"
   ]
  },
  {
   "cell_type": "markdown",
   "id": "7d2adb33-5dee-4ae9-a6bd-43a7cccd0c39",
   "metadata": {},
   "source": [
    "## 3.3 Tabel Agregat Jumlah Pesanan yang Dibatalkan Terhadap Durasi Menginap"
   ]
  },
  {
   "cell_type": "code",
   "execution_count": 78,
   "id": "7eefd2a2-5094-4feb-9733-1322ea56b15b",
   "metadata": {
    "tags": []
   },
   "outputs": [],
   "source": [
    "df2 = df1.groupby(['hotel', 'is_canceled', 'stay_group'])['arrival_date_month'].count().reset_index(name='num_bookings')\n",
    "df2_pivot = df2.pivot_table(index=['hotel', 'stay_group'], columns='is_canceled', values='num_bookings').reset_index()\n",
    "df2_pivot['pct_canceled'] = round(df2_pivot[1]*100.0/(df2_pivot[0]+df2_pivot[1]), 2)"
   ]
  },
  {
   "cell_type": "code",
   "execution_count": 79,
   "id": "c1fe93cf-c0eb-42ef-acc6-7e15311b3087",
   "metadata": {
    "tags": []
   },
   "outputs": [
    {
     "data": {
      "text/html": [
       "<div>\n",
       "<style scoped>\n",
       "    .dataframe tbody tr th:only-of-type {\n",
       "        vertical-align: middle;\n",
       "    }\n",
       "\n",
       "    .dataframe tbody tr th {\n",
       "        vertical-align: top;\n",
       "    }\n",
       "\n",
       "    .dataframe thead th {\n",
       "        text-align: right;\n",
       "    }\n",
       "</style>\n",
       "<table border=\"1\" class=\"dataframe\">\n",
       "  <thead>\n",
       "    <tr style=\"text-align: right;\">\n",
       "      <th></th>\n",
       "      <th>hotel</th>\n",
       "      <th>is_canceled</th>\n",
       "      <th>stay_group</th>\n",
       "      <th>num_bookings</th>\n",
       "    </tr>\n",
       "  </thead>\n",
       "  <tbody>\n",
       "    <tr>\n",
       "      <th>0</th>\n",
       "      <td>City Hotel</td>\n",
       "      <td>0</td>\n",
       "      <td>0</td>\n",
       "      <td>308</td>\n",
       "    </tr>\n",
       "    <tr>\n",
       "      <th>1</th>\n",
       "      <td>City Hotel</td>\n",
       "      <td>0</td>\n",
       "      <td>1</td>\n",
       "      <td>9169</td>\n",
       "    </tr>\n",
       "    <tr>\n",
       "      <th>2</th>\n",
       "      <td>City Hotel</td>\n",
       "      <td>0</td>\n",
       "      <td>2</td>\n",
       "      <td>10992</td>\n",
       "    </tr>\n",
       "    <tr>\n",
       "      <th>3</th>\n",
       "      <td>City Hotel</td>\n",
       "      <td>0</td>\n",
       "      <td>3</td>\n",
       "      <td>11895</td>\n",
       "    </tr>\n",
       "    <tr>\n",
       "      <th>4</th>\n",
       "      <td>City Hotel</td>\n",
       "      <td>0</td>\n",
       "      <td>4</td>\n",
       "      <td>7704</td>\n",
       "    </tr>\n",
       "  </tbody>\n",
       "</table>\n",
       "</div>"
      ],
      "text/plain": [
       "        hotel  is_canceled  stay_group  num_bookings\n",
       "0  City Hotel            0           0           308\n",
       "1  City Hotel            0           1          9169\n",
       "2  City Hotel            0           2         10992\n",
       "3  City Hotel            0           3         11895\n",
       "4  City Hotel            0           4          7704"
      ]
     },
     "execution_count": 79,
     "metadata": {},
     "output_type": "execute_result"
    }
   ],
   "source": [
    "df2.head(5)"
   ]
  },
  {
   "cell_type": "code",
   "execution_count": 80,
   "id": "75f8da9a-e181-4d96-a4c1-bc2868e15eaf",
   "metadata": {
    "tags": []
   },
   "outputs": [
    {
     "data": {
      "text/html": [
       "<div>\n",
       "<style scoped>\n",
       "    .dataframe tbody tr th:only-of-type {\n",
       "        vertical-align: middle;\n",
       "    }\n",
       "\n",
       "    .dataframe tbody tr th {\n",
       "        vertical-align: top;\n",
       "    }\n",
       "\n",
       "    .dataframe thead th {\n",
       "        text-align: right;\n",
       "    }\n",
       "</style>\n",
       "<table border=\"1\" class=\"dataframe\">\n",
       "  <thead>\n",
       "    <tr style=\"text-align: right;\">\n",
       "      <th>is_canceled</th>\n",
       "      <th>hotel</th>\n",
       "      <th>stay_group</th>\n",
       "      <th>0</th>\n",
       "      <th>1</th>\n",
       "      <th>pct_canceled</th>\n",
       "    </tr>\n",
       "  </thead>\n",
       "  <tbody>\n",
       "    <tr>\n",
       "      <th>0</th>\n",
       "      <td>City Hotel</td>\n",
       "      <td>0</td>\n",
       "      <td>308</td>\n",
       "      <td>23</td>\n",
       "      <td>6.95</td>\n",
       "    </tr>\n",
       "    <tr>\n",
       "      <th>1</th>\n",
       "      <td>City Hotel</td>\n",
       "      <td>1</td>\n",
       "      <td>9169</td>\n",
       "      <td>4103</td>\n",
       "      <td>30.91</td>\n",
       "    </tr>\n",
       "    <tr>\n",
       "      <th>2</th>\n",
       "      <td>City Hotel</td>\n",
       "      <td>2</td>\n",
       "      <td>10992</td>\n",
       "      <td>10434</td>\n",
       "      <td>48.70</td>\n",
       "    </tr>\n",
       "    <tr>\n",
       "      <th>3</th>\n",
       "      <td>City Hotel</td>\n",
       "      <td>3</td>\n",
       "      <td>11895</td>\n",
       "      <td>9486</td>\n",
       "      <td>44.37</td>\n",
       "    </tr>\n",
       "    <tr>\n",
       "      <th>4</th>\n",
       "      <td>City Hotel</td>\n",
       "      <td>4</td>\n",
       "      <td>7704</td>\n",
       "      <td>4853</td>\n",
       "      <td>38.65</td>\n",
       "    </tr>\n",
       "  </tbody>\n",
       "</table>\n",
       "</div>"
      ],
      "text/plain": [
       "is_canceled       hotel  stay_group      0      1  pct_canceled\n",
       "0            City Hotel           0    308     23          6.95\n",
       "1            City Hotel           1   9169   4103         30.91\n",
       "2            City Hotel           2  10992  10434         48.70\n",
       "3            City Hotel           3  11895   9486         44.37\n",
       "4            City Hotel           4   7704   4853         38.65"
      ]
     },
     "execution_count": 80,
     "metadata": {},
     "output_type": "execute_result"
    }
   ],
   "source": [
    "df2_pivot.head(5)"
   ]
  },
  {
   "cell_type": "markdown",
   "id": "4f1a7e0c-8983-429d-a201-2be47b0d8c3d",
   "metadata": {},
   "source": [
    "## 3.4 Grafik Rasio Pembatalan Pesanan Terhadap Durasi Menginap"
   ]
  },
  {
   "cell_type": "code",
   "execution_count": 109,
   "id": "9908506b-daba-42c1-a487-182f25353dce",
   "metadata": {
    "tags": []
   },
   "outputs": [
    {
     "data": {
      "image/png": "[encoded data removed]",
      "text/plain": [
       "<Figure size 1500x1000 with 1 Axes>"
      ]
     },
     "metadata": {},
     "output_type": "display_data"
    }
   ],
   "source": [
    "plt.figure(figsize=(15,10))\n",
    "sns.regplot(x='stay_group', y='pct_canceled', data=df2_pivot[df2_pivot['hotel'] == 'City Hotel'], scatter=False, label='Tren City Hotel')\n",
    "sns.regplot(x='stay_group', y='pct_canceled', data=df2_pivot[df2_pivot['hotel'] == 'Resort Hotel'], scatter=False, label='Tren Resort Hotel')\n",
    "sns.barplot(x='stay_group', y='pct_canceled', hue='hotel', data=df2_pivot, alpha=0.75)\n",
    "\n",
    "plt.tick_params(axis='both', which='major', labelsize=14) \n",
    "\n",
    "plt.legend(title='Hotel Type', title_fontsize=15, prop={'size':13}) \n",
    "\n",
    "plt.xticks(range(0,17,1), labels=[str(x) for x in range(0,15,1)]+[\"15-21\",\">21\"]) # mengatur customized-label pada x-axis\n",
    "plt.xlabel('Stay Duration', fontsize=15) # mengatur title pada x-axis \n",
    "plt.ylabel('Percentage of Booking Canceled (%)', fontsize=15) # mengatur title pada y-axis\n",
    "plt.ylim(0, 100) # membatasi y axis\n",
    "plt.xlim(0.5, 16.5) # membatasi x axis\n",
    "\n",
    "plt.text(x=0.5, y=110, s=\"Tren Positif pada Total Durasi Menginap dan Persentase Pembatalan Pesanan\", \n",
    "         fontsize=20, fontweight='bold') \n",
    "plt.text(x=0.5, y=102, s=\"Semakin lama durasi menginapnya, maka persentase \\npembatalan pesanan semakin tinggi\", \n",
    "         fontsize=18) \n",
    "\n",
    "plt.tight_layout() \n",
    "plt.show()"
   ]
  },
  {
   "cell_type": "markdown",
   "id": "cf762eb9-e520-47b9-8395-c42e8c7487d5",
   "metadata": {},
   "source": [
    "Berdasarkan grafik diatas dapat dilihat bahwa terjadi peningkatan atau tren positif terhadap durasi menginap dan pembatalan pesanan. Hal ini menandakan bahwa semakin lama durasi menginap maka semakin tinggi juga pembatalan pesanan. Persentase pembatalan pesanan tertinggi terjadi pada durasi menginap yang lebih dari 1 bulan. Hal ini terjadi baik pada **City Hotel** dan **Resort Hotel**. Namun pada **Resort Hotel** pada durasi menginap 2 minggu terjadi pembatalan yang cukup sedikit."
   ]
  },
  {
   "cell_type": "markdown",
   "id": "657d660e-ba7e-4b69-9545-7cc9fff40525",
   "metadata": {},
   "source": [
    "# 4. Impact Analysis Of Lead Time On Hotel Bookings Cancellation Rate"
   ]
  },
  {
   "cell_type": "markdown",
   "id": "5392274f-21d6-4f48-993c-0a2d40e04550",
   "metadata": {},
   "source": [
    "## 4.1 Kategori Jarak Waktu Pemesanan"
   ]
  },
  {
   "cell_type": "code",
   "execution_count": 91,
   "id": "bd700d0f-0524-46ba-9290-2c0062e1ce25",
   "metadata": {
    "tags": []
   },
   "outputs": [
    {
     "data": {
      "image/png": "[encoded data removed]",
      "text/plain": [
       "<Figure size 500x300 with 1 Axes>"
      ]
     },
     "metadata": {},
     "output_type": "display_data"
    }
   ],
   "source": [
    "plt.figure(figsize=(5,3))\n",
    "sns.histplot(data=df1, x=\"lead_time\", bins=50, color=\"blue\")\n",
    "plt.show()"
   ]
  },
  {
   "cell_type": "code",
   "execution_count": 93,
   "id": "102f5cf4-63d7-4026-aee6-e81558d01ed1",
   "metadata": {
    "tags": []
   },
   "outputs": [],
   "source": [
    "df1 = df1.drop('lead_time_group',axis=1)"
   ]
  },
  {
   "cell_type": "code",
   "execution_count": 95,
   "id": "d0782283-ef3d-4d5f-8047-ccba8425913c",
   "metadata": {
    "tags": []
   },
   "outputs": [],
   "source": [
    "# Mengkategorisasi kolom lead_time agar lebih sederhana\n",
    "df1['lead_times'] = np.where(df1['lead_time'] > 400, 401, df1['lead_time']) # lead_time dengan value yg cukup besar (lebih dari 400) dikategorisasikan menjadi satu grup\n",
    "bins = list(np.arange(0,max(df1['lead_times'])+30, 30))\n",
    "labels = [\"{0}-{1}\".format(str(bins[x]), str(bins[x+1])) for x in range(len(bins[:-1]))]\n",
    "df1['lead_time_group'] = pd.cut(df1['lead_times'],bins=bins, include_lowest=True, labels=labels) # groupping lead_time untuk setiap kelipatan 30"
   ]
  },
  {
   "cell_type": "markdown",
   "id": "f232bfef-d783-4a7e-a0ba-4667d7ffa437",
   "metadata": {},
   "source": [
    "## 4.2 Tabel Agregat Perbandingan Jumlah Pemesanan Hotel yang Dibatalkan Terhadap Jarak Waktu Pemesanan untuk Setiap Jenis Hotel"
   ]
  },
  {
   "cell_type": "code",
   "execution_count": 98,
   "id": "8adff076-4172-47c4-b0e0-5150d0747507",
   "metadata": {
    "tags": []
   },
   "outputs": [],
   "source": [
    "# melakukan agregasi data untuk menghitung jumlah pemesanan berdasarkan group lead_time yang sudah dibuat dan berdasarkan tipe hotel\n",
    "df1_book = df1.groupby(['hotel','lead_time_group', 'is_canceled'])['hotel'].count().reset_index(name='num_bookings')\n",
    "df1_pivot = df1_book.pivot_table(index=['hotel','lead_time_group'], columns='is_canceled', values='num_bookings').reset_index()\n",
    "df1_pivot.columns = ['hotel_type','lead_time_group', 'not_canceled', 'canceled']\n",
    "df1_pivot['all_bookings'] = df1_pivot['not_canceled']+df1_pivot['canceled']\n",
    "df1_pivot['pct_canceled'] = df1_pivot['canceled']*100.0/(df1_pivot['all_bookings']) "
   ]
  },
  {
   "cell_type": "code",
   "execution_count": 99,
   "id": "c7f3bd41-ff8a-4062-8fad-29bd5b024405",
   "metadata": {
    "tags": []
   },
   "outputs": [
    {
     "data": {
      "text/html": [
       "<div>\n",
       "<style scoped>\n",
       "    .dataframe tbody tr th:only-of-type {\n",
       "        vertical-align: middle;\n",
       "    }\n",
       "\n",
       "    .dataframe tbody tr th {\n",
       "        vertical-align: top;\n",
       "    }\n",
       "\n",
       "    .dataframe thead th {\n",
       "        text-align: right;\n",
       "    }\n",
       "</style>\n",
       "<table border=\"1\" class=\"dataframe\">\n",
       "  <thead>\n",
       "    <tr style=\"text-align: right;\">\n",
       "      <th></th>\n",
       "      <th>hotel_type</th>\n",
       "      <th>lead_time_group</th>\n",
       "      <th>not_canceled</th>\n",
       "      <th>canceled</th>\n",
       "      <th>all_bookings</th>\n",
       "      <th>pct_canceled</th>\n",
       "    </tr>\n",
       "  </thead>\n",
       "  <tbody>\n",
       "    <tr>\n",
       "      <th>0</th>\n",
       "      <td>City Hotel</td>\n",
       "      <td>0-30</td>\n",
       "      <td>18163</td>\n",
       "      <td>5199</td>\n",
       "      <td>23362</td>\n",
       "      <td>22.254088</td>\n",
       "    </tr>\n",
       "    <tr>\n",
       "      <th>1</th>\n",
       "      <td>City Hotel</td>\n",
       "      <td>30-60</td>\n",
       "      <td>7281</td>\n",
       "      <td>4608</td>\n",
       "      <td>11889</td>\n",
       "      <td>38.758516</td>\n",
       "    </tr>\n",
       "    <tr>\n",
       "      <th>2</th>\n",
       "      <td>City Hotel</td>\n",
       "      <td>60-90</td>\n",
       "      <td>5216</td>\n",
       "      <td>3692</td>\n",
       "      <td>8908</td>\n",
       "      <td>41.445891</td>\n",
       "    </tr>\n",
       "    <tr>\n",
       "      <th>3</th>\n",
       "      <td>City Hotel</td>\n",
       "      <td>90-120</td>\n",
       "      <td>3961</td>\n",
       "      <td>3486</td>\n",
       "      <td>7447</td>\n",
       "      <td>46.810796</td>\n",
       "    </tr>\n",
       "    <tr>\n",
       "      <th>4</th>\n",
       "      <td>City Hotel</td>\n",
       "      <td>120-150</td>\n",
       "      <td>3070</td>\n",
       "      <td>2543</td>\n",
       "      <td>5613</td>\n",
       "      <td>45.305541</td>\n",
       "    </tr>\n",
       "  </tbody>\n",
       "</table>\n",
       "</div>"
      ],
      "text/plain": [
       "   hotel_type lead_time_group  not_canceled  canceled  all_bookings  \\\n",
       "0  City Hotel            0-30         18163      5199         23362   \n",
       "1  City Hotel           30-60          7281      4608         11889   \n",
       "2  City Hotel           60-90          5216      3692          8908   \n",
       "3  City Hotel          90-120          3961      3486          7447   \n",
       "4  City Hotel         120-150          3070      2543          5613   \n",
       "\n",
       "   pct_canceled  \n",
       "0     22.254088  \n",
       "1     38.758516  \n",
       "2     41.445891  \n",
       "3     46.810796  \n",
       "4     45.305541  "
      ]
     },
     "execution_count": 99,
     "metadata": {},
     "output_type": "execute_result"
    }
   ],
   "source": [
    "df1_pivot.head()"
   ]
  },
  {
   "cell_type": "markdown",
   "id": "a2e1354a-0b4a-4506-9be5-6e417248386a",
   "metadata": {},
   "source": [
    "## 4.3 Grafik Rasio Pembatalan Terhadap Rentang Waktu Pemesanan"
   ]
  },
  {
   "cell_type": "code",
   "execution_count": 108,
   "id": "45dfea35-e568-4a98-bf65-7bd1b2596e89",
   "metadata": {
    "tags": []
   },
   "outputs": [
    {
     "data": {
      "image/png": "[encoded data removed]",
      "text/plain": [
       "<Figure size 1500x1000 with 1 Axes>"
      ]
     },
     "metadata": {},
     "output_type": "display_data"
    }
   ],
   "source": [
    "plt.figure(figsize=(15,10))\n",
    "sns.barplot(x='lead_time_group', y='pct_canceled', hue='hotel_type', data=df1_pivot) \n",
    "plt.tick_params(axis='both', which='major', labelsize=12) \n",
    "\n",
    "plt.legend(title='Hotel Type', title_fontsize=14, prop={'size':12}, loc=9) \n",
    "\n",
    "plt.xlabel('Waktu Pemesanan (per 30 hari)', fontsize=14) \n",
    "plt.ylabel('Persentase Pembatalan Pesanan (%)', fontsize=14) \n",
    "plt.ylim(0, 100) \n",
    "plt.xlim(-0.5,13.5) \n",
    "\n",
    "plt.axvline(0.5, ls='--', color='red') \n",
    "plt.text(x=-0.2, y=80, s='1 Bulan', fontsize=18, color='red', rotation=90) \n",
    "plt.stackplot(np.arange(-0.5,1.5,1), [[100]], color='indianred', alpha=0.3) \n",
    "\n",
    "plt.axvline(8.5, ls='--', color='red') \n",
    "plt.text(x=10, y=90, s='Sekitar 1 Tahun', fontsize=18, color='red') \n",
    "plt.stackplot(np.arange(8.5,14.5,1), [[100]], color='indianred', alpha=0.3) \n",
    "\n",
    "plt.text(x=-0.5, y=108, s=\"Kedua Hotel Memiliki Rasio Pembatalan Terendah pada Pemesanan 1 bulan\", \n",
    "         fontsize=20, fontweight='bold') \n",
    "plt.text(x=-0.5, y=102, s='Resort Hotel memiliki rasio pembatalan yang cukup stagnan (sekitar 40%), \\nsedangkan City Hotel memiliki rasio pembatalan yang cukup tinggi (di atas 60%) dengan waktu pemesanan sekitar 1 tahun', \n",
    "         fontsize=16) \n",
    " \n",
    "plt.tight_layout() \n",
    "plt.show()"
   ]
  },
  {
   "cell_type": "markdown",
   "id": "fd64ae5b-a701-4d5a-ae29-45d4a380cd7a",
   "metadata": {},
   "source": [
    "Berdasarkan grafik diatas,dapat dilihat bahwa baik **City Hotel** dan **Resort Hotel** memiliki persentase pembatalan pesanan terendah pada jangka waktu pemesanan 1 bulan. Tren meningkat positif pada **City Hotel** yang berarti bahwa semakin tingginya waktu pemesanan (2 bulan hingga > 1 tahun) maka persentase pembatalan pesanan semakin tinggi. Sedangkan pada **Resort Hotel** cenderung meningkat dan menurun. Jangka waktu pemesanan di sekitaran 1 tahun cukup memiliki pembatalan pesanan yang tidak terlalu tinggi, ini kemungkinan dikarenakan customer ingin melakukan liburan pada **Resort Hotel** untuk *occasion* terterntu sehingga sudah dipesan jauh-jauh hari dan tidak dilakukan pembatalan."
   ]
  },
  {
   "cell_type": "code",
   "execution_count": null,
   "id": "f462c3bc-c77f-49d3-8f21-05f1673a912c",
   "metadata": {},
   "outputs": [],
   "source": []
  }
 ],
 "metadata": {
  "kernelspec": {
   "display_name": "Python 3 (ipykernel)",
   "language": "python",
   "name": "python3"
  },
  "language_info": {
   "codemirror_mode": {
    "name": "ipython",
    "version": 3
   },
   "file_extension": ".py",
   "mimetype": "text/x-python",
   "name": "python",
   "nbconvert_exporter": "python",
   "pygments_lexer": "ipython3",
   "version": "3.11.4"
  }
 },
 "nbformat": 4,
 "nbformat_minor": 5
}
